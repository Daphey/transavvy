{
 "cells": [
  {
   "attachments": {},
   "cell_type": "markdown",
   "id": "727186cd-f42e-43cb-9482-393b7470bcc1",
   "metadata": {},
   "source": [
    "## Exploratory Data Analysis With Python\n",
    "### A Case study of Transavvy Auto-mobile Inc.\n",
    "\n",
    "\n",
    "An auto-mobile sales company, Transavvy, is experiencing rapid growth and needs to leverage its data to make informed business decisions. As a data scientist, you are tasked with analyzing their sales data to provide actionable insights. This project will require you to work with the company’s historical data, including product prices, customer orders, inventory, and other factors to optimize sales, understand customer preferences, and improve overall business operations.\n"
   ]
  },
  {
   "cell_type": "code",
   "execution_count": null,
   "id": "38f17a86-b2ca-457c-b588-392d6140da30",
   "metadata": {},
   "outputs": [],
   "source": []
  },
  {
   "cell_type": "markdown",
   "id": "1f89219c-aaea-492e-836f-9aa0e4dda03b",
   "metadata": {},
   "source": [
    "#### Step 1: Import all necessary EDA libraries"
   ]
  },
  {
   "cell_type": "code",
   "execution_count": 1,
   "id": "955f409f-7aa1-4c5b-98e9-197e64c898bc",
   "metadata": {},
   "outputs": [],
   "source": [
    "import pandas as pd\n",
    "import numpy as np   # numpy - numerical python\n",
    "\n",
    "import matplotlib.pyplot as plt  # Visualization library (Static)\n",
    "import seaborn as sns  # visualization library (dynamic)\n",
    "\n",
    "from warnings import filterwarnings\n",
    "filterwarnings('ignore')"
   ]
  },
  {
   "cell_type": "code",
   "execution_count": null,
   "id": "5c175880-cf47-4ebd-8bc7-733064dd4aa0",
   "metadata": {},
   "outputs": [],
   "source": []
  },
  {
   "cell_type": "markdown",
   "id": "4c29d5be-e45f-4261-b330-3c8f830f1048",
   "metadata": {},
   "source": [
    "#### Step 2: Import Transavvy dataset"
   ]
  },
  {
   "cell_type": "code",
   "execution_count": 2,
   "id": "319f4858-4644-467f-8718-4fe55bb832b5",
   "metadata": {},
   "outputs": [],
   "source": [
    "df = pd.read_csv('Auto Sales data.csv')"
   ]
  },
  {
   "cell_type": "code",
   "execution_count": 3,
   "id": "d5c070c2-d6dd-493a-ab24-d058b226ed71",
   "metadata": {},
   "outputs": [
    {
     "data": {
      "text/html": [
       "<div>\n",
       "<style scoped>\n",
       "    .dataframe tbody tr th:only-of-type {\n",
       "        vertical-align: middle;\n",
       "    }\n",
       "\n",
       "    .dataframe tbody tr th {\n",
       "        vertical-align: top;\n",
       "    }\n",
       "\n",
       "    .dataframe thead th {\n",
       "        text-align: right;\n",
       "    }\n",
       "</style>\n",
       "<table border=\"1\" class=\"dataframe\">\n",
       "  <thead>\n",
       "    <tr style=\"text-align: right;\">\n",
       "      <th></th>\n",
       "      <th>ORDERNUMBER</th>\n",
       "      <th>QUANTITYORDERED</th>\n",
       "      <th>PRICEEACH</th>\n",
       "      <th>ORDERLINENUMBER</th>\n",
       "      <th>SALES</th>\n",
       "      <th>ORDERDATE</th>\n",
       "      <th>DAYS_SINCE_LASTORDER</th>\n",
       "      <th>STATUS</th>\n",
       "      <th>PRODUCTLINE</th>\n",
       "      <th>MSRP</th>\n",
       "      <th>PRODUCTCODE</th>\n",
       "      <th>CUSTOMERNAME</th>\n",
       "      <th>PHONE</th>\n",
       "      <th>ADDRESSLINE1</th>\n",
       "      <th>CITY</th>\n",
       "      <th>POSTALCODE</th>\n",
       "      <th>COUNTRY</th>\n",
       "      <th>CONTACTLASTNAME</th>\n",
       "      <th>CONTACTFIRSTNAME</th>\n",
       "      <th>DEALSIZE</th>\n",
       "    </tr>\n",
       "  </thead>\n",
       "  <tbody>\n",
       "    <tr>\n",
       "      <th>0</th>\n",
       "      <td>10107</td>\n",
       "      <td>30.0</td>\n",
       "      <td>95.70</td>\n",
       "      <td>2.0</td>\n",
       "      <td>2871.00</td>\n",
       "      <td>24/02/2018</td>\n",
       "      <td>828</td>\n",
       "      <td>Shipped</td>\n",
       "      <td>Motorcycles</td>\n",
       "      <td>95</td>\n",
       "      <td>S10_1678</td>\n",
       "      <td>Land of Toys Inc.</td>\n",
       "      <td>2125557818</td>\n",
       "      <td>897 Long Airport Avenue</td>\n",
       "      <td>NYC</td>\n",
       "      <td>10022</td>\n",
       "      <td>USA</td>\n",
       "      <td>Yu</td>\n",
       "      <td>Kwai</td>\n",
       "      <td>Small</td>\n",
       "    </tr>\n",
       "    <tr>\n",
       "      <th>1</th>\n",
       "      <td>10121</td>\n",
       "      <td>34.0</td>\n",
       "      <td>81.35</td>\n",
       "      <td>5.0</td>\n",
       "      <td>2765.90</td>\n",
       "      <td>7/5/2018</td>\n",
       "      <td>757</td>\n",
       "      <td>Shipped</td>\n",
       "      <td>Motorcycles</td>\n",
       "      <td>95</td>\n",
       "      <td>S10_1678</td>\n",
       "      <td>Reims Collectables</td>\n",
       "      <td>26.47.1555</td>\n",
       "      <td>59 rue de l'Abbaye</td>\n",
       "      <td>Reims</td>\n",
       "      <td>51100</td>\n",
       "      <td>France</td>\n",
       "      <td>Henriot</td>\n",
       "      <td>Paul</td>\n",
       "      <td>Small</td>\n",
       "    </tr>\n",
       "    <tr>\n",
       "      <th>2</th>\n",
       "      <td>10134</td>\n",
       "      <td>41.0</td>\n",
       "      <td>94.74</td>\n",
       "      <td>2.0</td>\n",
       "      <td>3884.34</td>\n",
       "      <td>1/7/2018</td>\n",
       "      <td>703</td>\n",
       "      <td>Shipped</td>\n",
       "      <td>Motorcycles</td>\n",
       "      <td>95</td>\n",
       "      <td>S10_1678</td>\n",
       "      <td>Lyon Souveniers</td>\n",
       "      <td>+33 1 46 62 7555</td>\n",
       "      <td>27 rue du Colonel Pierre Avia</td>\n",
       "      <td>Paris</td>\n",
       "      <td>75508</td>\n",
       "      <td>France</td>\n",
       "      <td>Da Cunha</td>\n",
       "      <td>Daniel</td>\n",
       "      <td>Medium</td>\n",
       "    </tr>\n",
       "    <tr>\n",
       "      <th>3</th>\n",
       "      <td>10145</td>\n",
       "      <td>45.0</td>\n",
       "      <td>NaN</td>\n",
       "      <td>6.0</td>\n",
       "      <td>NaN</td>\n",
       "      <td>25/08/2018</td>\n",
       "      <td>649</td>\n",
       "      <td>Shipped</td>\n",
       "      <td>Motorcycles</td>\n",
       "      <td>95</td>\n",
       "      <td>S10_1678</td>\n",
       "      <td>Toys4GrownUps.com</td>\n",
       "      <td>6265557265</td>\n",
       "      <td>78934 Hillside Dr.</td>\n",
       "      <td>Pasadena</td>\n",
       "      <td>90003</td>\n",
       "      <td>USA</td>\n",
       "      <td>Young</td>\n",
       "      <td>Julie</td>\n",
       "      <td>Medium</td>\n",
       "    </tr>\n",
       "    <tr>\n",
       "      <th>4</th>\n",
       "      <td>10168</td>\n",
       "      <td>36.0</td>\n",
       "      <td>96.66</td>\n",
       "      <td>1.0</td>\n",
       "      <td>3479.76</td>\n",
       "      <td>28/10/2018</td>\n",
       "      <td>586</td>\n",
       "      <td>Shipped</td>\n",
       "      <td>Motorcycles</td>\n",
       "      <td>95</td>\n",
       "      <td>S10_1678</td>\n",
       "      <td>Technics Stores Inc.</td>\n",
       "      <td>6505556809</td>\n",
       "      <td>9408 Furth Circle</td>\n",
       "      <td>Burlingame</td>\n",
       "      <td>94217</td>\n",
       "      <td>USA</td>\n",
       "      <td>Hirano</td>\n",
       "      <td>Juri</td>\n",
       "      <td>Medium</td>\n",
       "    </tr>\n",
       "    <tr>\n",
       "      <th>5</th>\n",
       "      <td>10180</td>\n",
       "      <td>29.0</td>\n",
       "      <td>86.13</td>\n",
       "      <td>9.0</td>\n",
       "      <td>2497.77</td>\n",
       "      <td>11/11/2018</td>\n",
       "      <td>573</td>\n",
       "      <td>Shipped</td>\n",
       "      <td>Motorcycles</td>\n",
       "      <td>95</td>\n",
       "      <td>S10_1678</td>\n",
       "      <td>Daedalus Designs Imports</td>\n",
       "      <td>20.16.1555</td>\n",
       "      <td>184, chausse de Tournai</td>\n",
       "      <td>Lille</td>\n",
       "      <td>59000</td>\n",
       "      <td>France</td>\n",
       "      <td>Rance</td>\n",
       "      <td>Martine</td>\n",
       "      <td>Small</td>\n",
       "    </tr>\n",
       "    <tr>\n",
       "      <th>6</th>\n",
       "      <td>10188</td>\n",
       "      <td>48.0</td>\n",
       "      <td>114.84</td>\n",
       "      <td>1.0</td>\n",
       "      <td>5512.32</td>\n",
       "      <td>18/11/2018</td>\n",
       "      <td>567</td>\n",
       "      <td>Shipped</td>\n",
       "      <td>Motorcycles</td>\n",
       "      <td>95</td>\n",
       "      <td>S10_1678</td>\n",
       "      <td>Herkku Gifts</td>\n",
       "      <td>+47 2267 3215</td>\n",
       "      <td>Drammen 121, PR 744 Sentrum</td>\n",
       "      <td>Bergen</td>\n",
       "      <td>N 5804</td>\n",
       "      <td>Norway</td>\n",
       "      <td>Oeztan</td>\n",
       "      <td>Veysel</td>\n",
       "      <td>NaN</td>\n",
       "    </tr>\n",
       "    <tr>\n",
       "      <th>7</th>\n",
       "      <td>10211</td>\n",
       "      <td>41.0</td>\n",
       "      <td>114.84</td>\n",
       "      <td>14.0</td>\n",
       "      <td>4708.44</td>\n",
       "      <td>15/01/2019</td>\n",
       "      <td>510</td>\n",
       "      <td>Shipped</td>\n",
       "      <td>Motorcycles</td>\n",
       "      <td>95</td>\n",
       "      <td>S10_1678</td>\n",
       "      <td>Auto Canal Petit</td>\n",
       "      <td>(1) 47.55.6555</td>\n",
       "      <td>25, rue Lauriston</td>\n",
       "      <td>Paris</td>\n",
       "      <td>75016</td>\n",
       "      <td>France</td>\n",
       "      <td>Perrier</td>\n",
       "      <td>Dominique</td>\n",
       "      <td>Medium</td>\n",
       "    </tr>\n",
       "    <tr>\n",
       "      <th>8</th>\n",
       "      <td>10223</td>\n",
       "      <td>37.0</td>\n",
       "      <td>107.18</td>\n",
       "      <td>1.0</td>\n",
       "      <td>3965.66</td>\n",
       "      <td>20/02/2019</td>\n",
       "      <td>475</td>\n",
       "      <td>Shipped</td>\n",
       "      <td>Motorcycles</td>\n",
       "      <td>95</td>\n",
       "      <td>S10_1678</td>\n",
       "      <td>Australian Collectors, Co.</td>\n",
       "      <td>03 9520 4555</td>\n",
       "      <td>636 St Kilda Road</td>\n",
       "      <td>Melbourne</td>\n",
       "      <td>3004</td>\n",
       "      <td>Australia</td>\n",
       "      <td>Ferguson</td>\n",
       "      <td>Peter</td>\n",
       "      <td>Medium</td>\n",
       "    </tr>\n",
       "    <tr>\n",
       "      <th>9</th>\n",
       "      <td>10237</td>\n",
       "      <td>23.0</td>\n",
       "      <td>101.44</td>\n",
       "      <td>7.0</td>\n",
       "      <td>2333.12</td>\n",
       "      <td>5/4/2019</td>\n",
       "      <td>432</td>\n",
       "      <td>Shipped</td>\n",
       "      <td>Motorcycles</td>\n",
       "      <td>95</td>\n",
       "      <td>S10_1678</td>\n",
       "      <td>Vitachrome Inc.</td>\n",
       "      <td>2125551500</td>\n",
       "      <td>2678 Kingston Rd.</td>\n",
       "      <td>NYC</td>\n",
       "      <td>10022</td>\n",
       "      <td>USA</td>\n",
       "      <td>Frick</td>\n",
       "      <td>Michael</td>\n",
       "      <td>Small</td>\n",
       "    </tr>\n",
       "    <tr>\n",
       "      <th>10</th>\n",
       "      <td>10251</td>\n",
       "      <td>28.0</td>\n",
       "      <td>113.88</td>\n",
       "      <td>2.0</td>\n",
       "      <td>3188.64</td>\n",
       "      <td>18/05/2019</td>\n",
       "      <td>390</td>\n",
       "      <td>Shipped</td>\n",
       "      <td>Motorcycles</td>\n",
       "      <td>95</td>\n",
       "      <td>S10_1678</td>\n",
       "      <td>Tekni Collectables Inc.</td>\n",
       "      <td>2015559350</td>\n",
       "      <td>7476 Moss Rd.</td>\n",
       "      <td>Newark</td>\n",
       "      <td>94019</td>\n",
       "      <td>USA</td>\n",
       "      <td>Brown</td>\n",
       "      <td>William</td>\n",
       "      <td>Medium</td>\n",
       "    </tr>\n",
       "    <tr>\n",
       "      <th>11</th>\n",
       "      <td>10263</td>\n",
       "      <td>34.0</td>\n",
       "      <td>108.14</td>\n",
       "      <td>2.0</td>\n",
       "      <td>3676.76</td>\n",
       "      <td>28/06/2019</td>\n",
       "      <td>350</td>\n",
       "      <td>Shipped</td>\n",
       "      <td>Motorcycles</td>\n",
       "      <td>95</td>\n",
       "      <td>S10_1678</td>\n",
       "      <td>Gift Depot Inc.</td>\n",
       "      <td>2035552570</td>\n",
       "      <td>25593 South Bay Ln.</td>\n",
       "      <td>Bridgewater</td>\n",
       "      <td>97562</td>\n",
       "      <td>USA</td>\n",
       "      <td>King</td>\n",
       "      <td>Julie</td>\n",
       "      <td>Medium</td>\n",
       "    </tr>\n",
       "    <tr>\n",
       "      <th>12</th>\n",
       "      <td>10275</td>\n",
       "      <td>NaN</td>\n",
       "      <td>92.83</td>\n",
       "      <td>1.0</td>\n",
       "      <td>4177.35</td>\n",
       "      <td>23/07/2019</td>\n",
       "      <td>326</td>\n",
       "      <td>Shipped</td>\n",
       "      <td>Motorcycles</td>\n",
       "      <td>95</td>\n",
       "      <td>S10_1678</td>\n",
       "      <td>La Rochelle Gifts</td>\n",
       "      <td>40.67.8555</td>\n",
       "      <td>67, rue des Cinquante Otages</td>\n",
       "      <td>Nantes</td>\n",
       "      <td>44000</td>\n",
       "      <td>France</td>\n",
       "      <td>Labrune</td>\n",
       "      <td>Janine</td>\n",
       "      <td>Medium</td>\n",
       "    </tr>\n",
       "    <tr>\n",
       "      <th>13</th>\n",
       "      <td>10285</td>\n",
       "      <td>36.0</td>\n",
       "      <td>113.88</td>\n",
       "      <td>6.0</td>\n",
       "      <td>4099.68</td>\n",
       "      <td>27/08/2019</td>\n",
       "      <td>292</td>\n",
       "      <td>Shipped</td>\n",
       "      <td>Motorcycles</td>\n",
       "      <td>95</td>\n",
       "      <td>S10_1678</td>\n",
       "      <td>Marta's Replicas Co.</td>\n",
       "      <td>6175558555</td>\n",
       "      <td>39323 Spinnaker Dr.</td>\n",
       "      <td>Cambridge</td>\n",
       "      <td>51247</td>\n",
       "      <td>USA</td>\n",
       "      <td>Hernandez</td>\n",
       "      <td>Marta</td>\n",
       "      <td>Medium</td>\n",
       "    </tr>\n",
       "    <tr>\n",
       "      <th>14</th>\n",
       "      <td>10299</td>\n",
       "      <td>23.0</td>\n",
       "      <td>112.93</td>\n",
       "      <td>9.0</td>\n",
       "      <td>2597.39</td>\n",
       "      <td>30/09/2019</td>\n",
       "      <td>259</td>\n",
       "      <td>Shipped</td>\n",
       "      <td>Motorcycles</td>\n",
       "      <td>95</td>\n",
       "      <td>S10_1678</td>\n",
       "      <td>Toys of Finland, Co.</td>\n",
       "      <td>90-224 8555</td>\n",
       "      <td>Keskuskatu 45</td>\n",
       "      <td>Helsinki</td>\n",
       "      <td>21240</td>\n",
       "      <td>Finland</td>\n",
       "      <td>Karttunen</td>\n",
       "      <td>Matti</td>\n",
       "      <td>Small</td>\n",
       "    </tr>\n",
       "  </tbody>\n",
       "</table>\n",
       "</div>"
      ],
      "text/plain": [
       "    ORDERNUMBER  QUANTITYORDERED  PRICEEACH  ORDERLINENUMBER    SALES  \\\n",
       "0         10107             30.0      95.70              2.0  2871.00   \n",
       "1         10121             34.0      81.35              5.0  2765.90   \n",
       "2         10134             41.0      94.74              2.0  3884.34   \n",
       "3         10145             45.0        NaN              6.0      NaN   \n",
       "4         10168             36.0      96.66              1.0  3479.76   \n",
       "5         10180             29.0      86.13              9.0  2497.77   \n",
       "6         10188             48.0     114.84              1.0  5512.32   \n",
       "7         10211             41.0     114.84             14.0  4708.44   \n",
       "8         10223             37.0     107.18              1.0  3965.66   \n",
       "9         10237             23.0     101.44              7.0  2333.12   \n",
       "10        10251             28.0     113.88              2.0  3188.64   \n",
       "11        10263             34.0     108.14              2.0  3676.76   \n",
       "12        10275              NaN      92.83              1.0  4177.35   \n",
       "13        10285             36.0     113.88              6.0  4099.68   \n",
       "14        10299             23.0     112.93              9.0  2597.39   \n",
       "\n",
       "     ORDERDATE  DAYS_SINCE_LASTORDER   STATUS  PRODUCTLINE  MSRP PRODUCTCODE  \\\n",
       "0   24/02/2018                   828  Shipped  Motorcycles    95    S10_1678   \n",
       "1     7/5/2018                   757  Shipped  Motorcycles    95    S10_1678   \n",
       "2     1/7/2018                   703  Shipped  Motorcycles    95    S10_1678   \n",
       "3   25/08/2018                   649  Shipped  Motorcycles    95    S10_1678   \n",
       "4   28/10/2018                   586  Shipped  Motorcycles    95    S10_1678   \n",
       "5   11/11/2018                   573  Shipped  Motorcycles    95    S10_1678   \n",
       "6   18/11/2018                   567  Shipped  Motorcycles    95    S10_1678   \n",
       "7   15/01/2019                   510  Shipped  Motorcycles    95    S10_1678   \n",
       "8   20/02/2019                   475  Shipped  Motorcycles    95    S10_1678   \n",
       "9     5/4/2019                   432  Shipped  Motorcycles    95    S10_1678   \n",
       "10  18/05/2019                   390  Shipped  Motorcycles    95    S10_1678   \n",
       "11  28/06/2019                   350  Shipped  Motorcycles    95    S10_1678   \n",
       "12  23/07/2019                   326  Shipped  Motorcycles    95    S10_1678   \n",
       "13  27/08/2019                   292  Shipped  Motorcycles    95    S10_1678   \n",
       "14  30/09/2019                   259  Shipped  Motorcycles    95    S10_1678   \n",
       "\n",
       "                  CUSTOMERNAME             PHONE  \\\n",
       "0            Land of Toys Inc.        2125557818   \n",
       "1           Reims Collectables        26.47.1555   \n",
       "2              Lyon Souveniers  +33 1 46 62 7555   \n",
       "3            Toys4GrownUps.com        6265557265   \n",
       "4         Technics Stores Inc.        6505556809   \n",
       "5     Daedalus Designs Imports        20.16.1555   \n",
       "6                 Herkku Gifts     +47 2267 3215   \n",
       "7             Auto Canal Petit    (1) 47.55.6555   \n",
       "8   Australian Collectors, Co.      03 9520 4555   \n",
       "9              Vitachrome Inc.        2125551500   \n",
       "10     Tekni Collectables Inc.        2015559350   \n",
       "11             Gift Depot Inc.        2035552570   \n",
       "12           La Rochelle Gifts        40.67.8555   \n",
       "13        Marta's Replicas Co.        6175558555   \n",
       "14        Toys of Finland, Co.       90-224 8555   \n",
       "\n",
       "                     ADDRESSLINE1         CITY POSTALCODE    COUNTRY  \\\n",
       "0         897 Long Airport Avenue          NYC      10022        USA   \n",
       "1              59 rue de l'Abbaye        Reims      51100     France   \n",
       "2   27 rue du Colonel Pierre Avia        Paris      75508     France   \n",
       "3              78934 Hillside Dr.     Pasadena      90003        USA   \n",
       "4               9408 Furth Circle   Burlingame      94217        USA   \n",
       "5         184, chausse de Tournai        Lille      59000     France   \n",
       "6     Drammen 121, PR 744 Sentrum       Bergen     N 5804     Norway   \n",
       "7               25, rue Lauriston        Paris      75016     France   \n",
       "8               636 St Kilda Road    Melbourne       3004  Australia   \n",
       "9               2678 Kingston Rd.          NYC      10022        USA   \n",
       "10                  7476 Moss Rd.       Newark      94019        USA   \n",
       "11            25593 South Bay Ln.  Bridgewater      97562        USA   \n",
       "12   67, rue des Cinquante Otages       Nantes      44000     France   \n",
       "13            39323 Spinnaker Dr.    Cambridge      51247        USA   \n",
       "14                  Keskuskatu 45     Helsinki      21240    Finland   \n",
       "\n",
       "   CONTACTLASTNAME CONTACTFIRSTNAME DEALSIZE  \n",
       "0               Yu             Kwai    Small  \n",
       "1          Henriot             Paul    Small  \n",
       "2         Da Cunha           Daniel   Medium  \n",
       "3            Young            Julie   Medium  \n",
       "4           Hirano             Juri   Medium  \n",
       "5            Rance          Martine    Small  \n",
       "6           Oeztan           Veysel      NaN  \n",
       "7          Perrier        Dominique   Medium  \n",
       "8         Ferguson            Peter   Medium  \n",
       "9            Frick          Michael    Small  \n",
       "10           Brown          William   Medium  \n",
       "11            King            Julie   Medium  \n",
       "12         Labrune           Janine   Medium  \n",
       "13       Hernandez            Marta   Medium  \n",
       "14       Karttunen            Matti    Small  "
      ]
     },
     "execution_count": 3,
     "metadata": {},
     "output_type": "execute_result"
    }
   ],
   "source": [
    "# Display the top 5 rows to check data imporation is complete\n",
    "\n",
    "df.head(15)"
   ]
  },
  {
   "cell_type": "code",
   "execution_count": 4,
   "id": "6523fea4-ce59-445d-b28e-68142d4f0a77",
   "metadata": {},
   "outputs": [
    {
     "data": {
      "text/html": [
       "<div>\n",
       "<style scoped>\n",
       "    .dataframe tbody tr th:only-of-type {\n",
       "        vertical-align: middle;\n",
       "    }\n",
       "\n",
       "    .dataframe tbody tr th {\n",
       "        vertical-align: top;\n",
       "    }\n",
       "\n",
       "    .dataframe thead th {\n",
       "        text-align: right;\n",
       "    }\n",
       "</style>\n",
       "<table border=\"1\" class=\"dataframe\">\n",
       "  <thead>\n",
       "    <tr style=\"text-align: right;\">\n",
       "      <th></th>\n",
       "      <th>ORDERNUMBER</th>\n",
       "      <th>QUANTITYORDERED</th>\n",
       "      <th>PRICEEACH</th>\n",
       "      <th>ORDERLINENUMBER</th>\n",
       "      <th>SALES</th>\n",
       "      <th>ORDERDATE</th>\n",
       "      <th>DAYS_SINCE_LASTORDER</th>\n",
       "      <th>STATUS</th>\n",
       "      <th>PRODUCTLINE</th>\n",
       "      <th>MSRP</th>\n",
       "      <th>PRODUCTCODE</th>\n",
       "      <th>CUSTOMERNAME</th>\n",
       "      <th>PHONE</th>\n",
       "      <th>ADDRESSLINE1</th>\n",
       "      <th>CITY</th>\n",
       "      <th>POSTALCODE</th>\n",
       "      <th>COUNTRY</th>\n",
       "      <th>CONTACTLASTNAME</th>\n",
       "      <th>CONTACTFIRSTNAME</th>\n",
       "      <th>DEALSIZE</th>\n",
       "    </tr>\n",
       "  </thead>\n",
       "  <tbody>\n",
       "    <tr>\n",
       "      <th>2732</th>\n",
       "      <td>10232</td>\n",
       "      <td>24.0</td>\n",
       "      <td>49.69</td>\n",
       "      <td>3.0</td>\n",
       "      <td>1192.56</td>\n",
       "      <td>20/03/2019</td>\n",
       "      <td>3171</td>\n",
       "      <td>Shipped</td>\n",
       "      <td>Ships</td>\n",
       "      <td>54</td>\n",
       "      <td>S72_3212</td>\n",
       "      <td>giftsbymail.co.uk</td>\n",
       "      <td>(198) 555-8888</td>\n",
       "      <td>Garden House Crowther Way</td>\n",
       "      <td>Cowes</td>\n",
       "      <td>PO31 7PJ</td>\n",
       "      <td>UK</td>\n",
       "      <td>Bennett</td>\n",
       "      <td>Helen</td>\n",
       "      <td>Small</td>\n",
       "    </tr>\n",
       "    <tr>\n",
       "      <th>2733</th>\n",
       "      <td>10248</td>\n",
       "      <td>23.0</td>\n",
       "      <td>65.52</td>\n",
       "      <td>9.0</td>\n",
       "      <td>1506.96</td>\n",
       "      <td>7/5/2019</td>\n",
       "      <td>3124</td>\n",
       "      <td>Cancelled</td>\n",
       "      <td>Ships</td>\n",
       "      <td>54</td>\n",
       "      <td>S72_3212</td>\n",
       "      <td>Land of Toys Inc.</td>\n",
       "      <td>2125557818</td>\n",
       "      <td>897 Long Airport Avenue</td>\n",
       "      <td>NYC</td>\n",
       "      <td>10022</td>\n",
       "      <td>USA</td>\n",
       "      <td>Yu</td>\n",
       "      <td>Kwai</td>\n",
       "      <td>Small</td>\n",
       "    </tr>\n",
       "    <tr>\n",
       "      <th>2734</th>\n",
       "      <td>10261</td>\n",
       "      <td>29.0</td>\n",
       "      <td>50.78</td>\n",
       "      <td>7.0</td>\n",
       "      <td>1472.62</td>\n",
       "      <td>17/06/2019</td>\n",
       "      <td>3084</td>\n",
       "      <td>Shipped</td>\n",
       "      <td>Ships</td>\n",
       "      <td>54</td>\n",
       "      <td>S72_3212</td>\n",
       "      <td>Quebec Home Shopping Network</td>\n",
       "      <td>(514) 555-8054</td>\n",
       "      <td>43 rue St. Laurent</td>\n",
       "      <td>Montreal</td>\n",
       "      <td>H1J 1C3</td>\n",
       "      <td>Canada</td>\n",
       "      <td>Fresnisre</td>\n",
       "      <td>Jean</td>\n",
       "      <td>Small</td>\n",
       "    </tr>\n",
       "    <tr>\n",
       "      <th>2735</th>\n",
       "      <td>10273</td>\n",
       "      <td>37.0</td>\n",
       "      <td>45.86</td>\n",
       "      <td>10.0</td>\n",
       "      <td>1696.82</td>\n",
       "      <td>21/07/2019</td>\n",
       "      <td>3051</td>\n",
       "      <td>Shipped</td>\n",
       "      <td>Ships</td>\n",
       "      <td>54</td>\n",
       "      <td>S72_3212</td>\n",
       "      <td>Petit Auto</td>\n",
       "      <td>(02) 5554 67</td>\n",
       "      <td>Rue Joseph-Bens 532</td>\n",
       "      <td>Bruxelles</td>\n",
       "      <td>B-1180</td>\n",
       "      <td>Belgium</td>\n",
       "      <td>Dewey</td>\n",
       "      <td>Catherine</td>\n",
       "      <td>Small</td>\n",
       "    </tr>\n",
       "    <tr>\n",
       "      <th>2736</th>\n",
       "      <td>10283</td>\n",
       "      <td>33.0</td>\n",
       "      <td>51.32</td>\n",
       "      <td>12.0</td>\n",
       "      <td>1693.56</td>\n",
       "      <td>20/08/2019</td>\n",
       "      <td>3022</td>\n",
       "      <td>Shipped</td>\n",
       "      <td>Ships</td>\n",
       "      <td>54</td>\n",
       "      <td>S72_3212</td>\n",
       "      <td>Royal Canadian Collectables, Ltd.</td>\n",
       "      <td>(604) 555-4555</td>\n",
       "      <td>23 Tsawassen Blvd.</td>\n",
       "      <td>Tsawassen</td>\n",
       "      <td>T2F 8M4</td>\n",
       "      <td>Canada</td>\n",
       "      <td>Lincoln</td>\n",
       "      <td>Elizabeth</td>\n",
       "      <td>Small</td>\n",
       "    </tr>\n",
       "    <tr>\n",
       "      <th>2737</th>\n",
       "      <td>10293</td>\n",
       "      <td>32.0</td>\n",
       "      <td>60.06</td>\n",
       "      <td>1.0</td>\n",
       "      <td>1921.92</td>\n",
       "      <td>9/9/2019</td>\n",
       "      <td>3003</td>\n",
       "      <td>Shipped</td>\n",
       "      <td>Ships</td>\n",
       "      <td>54</td>\n",
       "      <td>S72_3212</td>\n",
       "      <td>Amica Models &amp; Co.</td>\n",
       "      <td>011-4988555</td>\n",
       "      <td>Via Monte Bianco 34</td>\n",
       "      <td>Torino</td>\n",
       "      <td>10100</td>\n",
       "      <td>Italy</td>\n",
       "      <td>Accorti</td>\n",
       "      <td>Paolo</td>\n",
       "      <td>Small</td>\n",
       "    </tr>\n",
       "    <tr>\n",
       "      <th>2738</th>\n",
       "      <td>10306</td>\n",
       "      <td>35.0</td>\n",
       "      <td>59.51</td>\n",
       "      <td>6.0</td>\n",
       "      <td>2082.85</td>\n",
       "      <td>14/10/2019</td>\n",
       "      <td>2969</td>\n",
       "      <td>Shipped</td>\n",
       "      <td>Ships</td>\n",
       "      <td>54</td>\n",
       "      <td>S72_3212</td>\n",
       "      <td>AV Stores, Co.</td>\n",
       "      <td>(171) 555-1555</td>\n",
       "      <td>Fauntleroy Circus</td>\n",
       "      <td>Manchester</td>\n",
       "      <td>EC2 5NT</td>\n",
       "      <td>UK</td>\n",
       "      <td>Ashworth</td>\n",
       "      <td>Victoria</td>\n",
       "      <td>Small</td>\n",
       "    </tr>\n",
       "    <tr>\n",
       "      <th>2739</th>\n",
       "      <td>10315</td>\n",
       "      <td>40.0</td>\n",
       "      <td>55.69</td>\n",
       "      <td>5.0</td>\n",
       "      <td>2227.60</td>\n",
       "      <td>29/10/2019</td>\n",
       "      <td>2955</td>\n",
       "      <td>Shipped</td>\n",
       "      <td>Ships</td>\n",
       "      <td>54</td>\n",
       "      <td>S72_3212</td>\n",
       "      <td>La Rochelle Gifts</td>\n",
       "      <td>40.67.8555</td>\n",
       "      <td>67, rue des Cinquante Otages</td>\n",
       "      <td>Nantes</td>\n",
       "      <td>44000</td>\n",
       "      <td>France</td>\n",
       "      <td>Labrune</td>\n",
       "      <td>Janine</td>\n",
       "      <td>Small</td>\n",
       "    </tr>\n",
       "    <tr>\n",
       "      <th>2740</th>\n",
       "      <td>10327</td>\n",
       "      <td>37.0</td>\n",
       "      <td>86.74</td>\n",
       "      <td>4.0</td>\n",
       "      <td>3209.38</td>\n",
       "      <td>10/11/2019</td>\n",
       "      <td>2944</td>\n",
       "      <td>Resolved</td>\n",
       "      <td>Ships</td>\n",
       "      <td>54</td>\n",
       "      <td>S72_3212</td>\n",
       "      <td>Danish Wholesale Imports</td>\n",
       "      <td>31 12 3555</td>\n",
       "      <td>Vinb'ltet 34</td>\n",
       "      <td>Kobenhavn</td>\n",
       "      <td>1734</td>\n",
       "      <td>Denmark</td>\n",
       "      <td>Petersen</td>\n",
       "      <td>Jytte</td>\n",
       "      <td>Medium</td>\n",
       "    </tr>\n",
       "    <tr>\n",
       "      <th>2741</th>\n",
       "      <td>10337</td>\n",
       "      <td>42.0</td>\n",
       "      <td>97.16</td>\n",
       "      <td>5.0</td>\n",
       "      <td>4080.72</td>\n",
       "      <td>21/11/2019</td>\n",
       "      <td>2934</td>\n",
       "      <td>Shipped</td>\n",
       "      <td>Ships</td>\n",
       "      <td>54</td>\n",
       "      <td>S72_3212</td>\n",
       "      <td>Classic Legends Inc.</td>\n",
       "      <td>2125558493</td>\n",
       "      <td>5905 Pompton St.</td>\n",
       "      <td>NYC</td>\n",
       "      <td>10022</td>\n",
       "      <td>USA</td>\n",
       "      <td>Hernandez</td>\n",
       "      <td>Maria</td>\n",
       "      <td>Medium</td>\n",
       "    </tr>\n",
       "    <tr>\n",
       "      <th>2742</th>\n",
       "      <td>10350</td>\n",
       "      <td>20.0</td>\n",
       "      <td>112.22</td>\n",
       "      <td>15.0</td>\n",
       "      <td>2244.40</td>\n",
       "      <td>2/12/2019</td>\n",
       "      <td>2924</td>\n",
       "      <td>Shipped</td>\n",
       "      <td>Ships</td>\n",
       "      <td>54</td>\n",
       "      <td>S72_3212</td>\n",
       "      <td>Euro Shopping Channel</td>\n",
       "      <td>(91) 555 94 44</td>\n",
       "      <td>C/ Moralzarzal, 86</td>\n",
       "      <td>Madrid</td>\n",
       "      <td>28034</td>\n",
       "      <td>Spain</td>\n",
       "      <td>Freyre</td>\n",
       "      <td>Diego</td>\n",
       "      <td>Small</td>\n",
       "    </tr>\n",
       "    <tr>\n",
       "      <th>2743</th>\n",
       "      <td>10373</td>\n",
       "      <td>29.0</td>\n",
       "      <td>137.19</td>\n",
       "      <td>1.0</td>\n",
       "      <td>3978.51</td>\n",
       "      <td>31/01/2020</td>\n",
       "      <td>2865</td>\n",
       "      <td>Shipped</td>\n",
       "      <td>Ships</td>\n",
       "      <td>54</td>\n",
       "      <td>S72_3212</td>\n",
       "      <td>Oulu Toy Supplies, Inc.</td>\n",
       "      <td>981-443655</td>\n",
       "      <td>Torikatu 38</td>\n",
       "      <td>Oulu</td>\n",
       "      <td>90110</td>\n",
       "      <td>Finland</td>\n",
       "      <td>Koskitalo</td>\n",
       "      <td>Pirkko</td>\n",
       "      <td>Medium</td>\n",
       "    </tr>\n",
       "    <tr>\n",
       "      <th>2744</th>\n",
       "      <td>10386</td>\n",
       "      <td>43.0</td>\n",
       "      <td>125.99</td>\n",
       "      <td>4.0</td>\n",
       "      <td>5417.57</td>\n",
       "      <td>1/3/2020</td>\n",
       "      <td>2836</td>\n",
       "      <td>Resolved</td>\n",
       "      <td>Ships</td>\n",
       "      <td>54</td>\n",
       "      <td>S72_3212</td>\n",
       "      <td>Euro Shopping Channel</td>\n",
       "      <td>(91) 555 94 44</td>\n",
       "      <td>C/ Moralzarzal, 86</td>\n",
       "      <td>Madrid</td>\n",
       "      <td>28034</td>\n",
       "      <td>Spain</td>\n",
       "      <td>Freyre</td>\n",
       "      <td>Diego</td>\n",
       "      <td>Medium</td>\n",
       "    </tr>\n",
       "    <tr>\n",
       "      <th>2745</th>\n",
       "      <td>10397</td>\n",
       "      <td>34.0</td>\n",
       "      <td>62.24</td>\n",
       "      <td>1.0</td>\n",
       "      <td>2116.16</td>\n",
       "      <td>28/03/2020</td>\n",
       "      <td>2810</td>\n",
       "      <td>Shipped</td>\n",
       "      <td>Ships</td>\n",
       "      <td>54</td>\n",
       "      <td>S72_3212</td>\n",
       "      <td>Alpha Cognac</td>\n",
       "      <td>61.77.6555</td>\n",
       "      <td>1 rue Alsace-Lorraine</td>\n",
       "      <td>Toulouse</td>\n",
       "      <td>31000</td>\n",
       "      <td>France</td>\n",
       "      <td>Roulet</td>\n",
       "      <td>Annette</td>\n",
       "      <td>Small</td>\n",
       "    </tr>\n",
       "    <tr>\n",
       "      <th>2746</th>\n",
       "      <td>10414</td>\n",
       "      <td>47.0</td>\n",
       "      <td>65.52</td>\n",
       "      <td>9.0</td>\n",
       "      <td>3079.44</td>\n",
       "      <td>6/5/2020</td>\n",
       "      <td>2772</td>\n",
       "      <td>On Hold</td>\n",
       "      <td>Ships</td>\n",
       "      <td>54</td>\n",
       "      <td>S72_3212</td>\n",
       "      <td>Gifts4AllAges.com</td>\n",
       "      <td>6175559555</td>\n",
       "      <td>8616 Spinnaker Dr.</td>\n",
       "      <td>Boston</td>\n",
       "      <td>51003</td>\n",
       "      <td>USA</td>\n",
       "      <td>Yoshido</td>\n",
       "      <td>Juri</td>\n",
       "      <td>Medium</td>\n",
       "    </tr>\n",
       "  </tbody>\n",
       "</table>\n",
       "</div>"
      ],
      "text/plain": [
       "      ORDERNUMBER  QUANTITYORDERED  PRICEEACH  ORDERLINENUMBER    SALES  \\\n",
       "2732        10232             24.0      49.69              3.0  1192.56   \n",
       "2733        10248             23.0      65.52              9.0  1506.96   \n",
       "2734        10261             29.0      50.78              7.0  1472.62   \n",
       "2735        10273             37.0      45.86             10.0  1696.82   \n",
       "2736        10283             33.0      51.32             12.0  1693.56   \n",
       "2737        10293             32.0      60.06              1.0  1921.92   \n",
       "2738        10306             35.0      59.51              6.0  2082.85   \n",
       "2739        10315             40.0      55.69              5.0  2227.60   \n",
       "2740        10327             37.0      86.74              4.0  3209.38   \n",
       "2741        10337             42.0      97.16              5.0  4080.72   \n",
       "2742        10350             20.0     112.22             15.0  2244.40   \n",
       "2743        10373             29.0     137.19              1.0  3978.51   \n",
       "2744        10386             43.0     125.99              4.0  5417.57   \n",
       "2745        10397             34.0      62.24              1.0  2116.16   \n",
       "2746        10414             47.0      65.52              9.0  3079.44   \n",
       "\n",
       "       ORDERDATE  DAYS_SINCE_LASTORDER     STATUS PRODUCTLINE  MSRP  \\\n",
       "2732  20/03/2019                  3171    Shipped       Ships    54   \n",
       "2733    7/5/2019                  3124  Cancelled       Ships    54   \n",
       "2734  17/06/2019                  3084    Shipped       Ships    54   \n",
       "2735  21/07/2019                  3051    Shipped       Ships    54   \n",
       "2736  20/08/2019                  3022    Shipped       Ships    54   \n",
       "2737    9/9/2019                  3003    Shipped       Ships    54   \n",
       "2738  14/10/2019                  2969    Shipped       Ships    54   \n",
       "2739  29/10/2019                  2955    Shipped       Ships    54   \n",
       "2740  10/11/2019                  2944   Resolved       Ships    54   \n",
       "2741  21/11/2019                  2934    Shipped       Ships    54   \n",
       "2742   2/12/2019                  2924    Shipped       Ships    54   \n",
       "2743  31/01/2020                  2865    Shipped       Ships    54   \n",
       "2744    1/3/2020                  2836   Resolved       Ships    54   \n",
       "2745  28/03/2020                  2810    Shipped       Ships    54   \n",
       "2746    6/5/2020                  2772    On Hold       Ships    54   \n",
       "\n",
       "     PRODUCTCODE                       CUSTOMERNAME           PHONE  \\\n",
       "2732    S72_3212                  giftsbymail.co.uk  (198) 555-8888   \n",
       "2733    S72_3212                  Land of Toys Inc.      2125557818   \n",
       "2734    S72_3212       Quebec Home Shopping Network  (514) 555-8054   \n",
       "2735    S72_3212                         Petit Auto    (02) 5554 67   \n",
       "2736    S72_3212  Royal Canadian Collectables, Ltd.  (604) 555-4555   \n",
       "2737    S72_3212                 Amica Models & Co.     011-4988555   \n",
       "2738    S72_3212                     AV Stores, Co.  (171) 555-1555   \n",
       "2739    S72_3212                  La Rochelle Gifts      40.67.8555   \n",
       "2740    S72_3212           Danish Wholesale Imports      31 12 3555   \n",
       "2741    S72_3212               Classic Legends Inc.      2125558493   \n",
       "2742    S72_3212              Euro Shopping Channel  (91) 555 94 44   \n",
       "2743    S72_3212            Oulu Toy Supplies, Inc.      981-443655   \n",
       "2744    S72_3212              Euro Shopping Channel  (91) 555 94 44   \n",
       "2745    S72_3212                       Alpha Cognac      61.77.6555   \n",
       "2746    S72_3212                  Gifts4AllAges.com      6175559555   \n",
       "\n",
       "                      ADDRESSLINE1        CITY POSTALCODE  COUNTRY  \\\n",
       "2732     Garden House Crowther Way       Cowes   PO31 7PJ       UK   \n",
       "2733       897 Long Airport Avenue         NYC      10022      USA   \n",
       "2734            43 rue St. Laurent    Montreal    H1J 1C3   Canada   \n",
       "2735           Rue Joseph-Bens 532   Bruxelles     B-1180  Belgium   \n",
       "2736            23 Tsawassen Blvd.   Tsawassen    T2F 8M4   Canada   \n",
       "2737           Via Monte Bianco 34      Torino      10100    Italy   \n",
       "2738             Fauntleroy Circus  Manchester    EC2 5NT       UK   \n",
       "2739  67, rue des Cinquante Otages      Nantes      44000   France   \n",
       "2740                  Vinb'ltet 34   Kobenhavn       1734  Denmark   \n",
       "2741              5905 Pompton St.         NYC      10022      USA   \n",
       "2742            C/ Moralzarzal, 86      Madrid      28034    Spain   \n",
       "2743                   Torikatu 38        Oulu      90110  Finland   \n",
       "2744            C/ Moralzarzal, 86      Madrid      28034    Spain   \n",
       "2745         1 rue Alsace-Lorraine    Toulouse      31000   France   \n",
       "2746            8616 Spinnaker Dr.      Boston      51003      USA   \n",
       "\n",
       "     CONTACTLASTNAME CONTACTFIRSTNAME DEALSIZE  \n",
       "2732         Bennett            Helen    Small  \n",
       "2733              Yu             Kwai    Small  \n",
       "2734       Fresnisre             Jean    Small  \n",
       "2735           Dewey        Catherine    Small  \n",
       "2736         Lincoln        Elizabeth    Small  \n",
       "2737         Accorti            Paolo    Small  \n",
       "2738        Ashworth         Victoria    Small  \n",
       "2739         Labrune           Janine    Small  \n",
       "2740        Petersen            Jytte   Medium  \n",
       "2741       Hernandez            Maria   Medium  \n",
       "2742          Freyre            Diego    Small  \n",
       "2743       Koskitalo           Pirkko   Medium  \n",
       "2744          Freyre            Diego   Medium  \n",
       "2745          Roulet          Annette    Small  \n",
       "2746         Yoshido             Juri   Medium  "
      ]
     },
     "execution_count": 4,
     "metadata": {},
     "output_type": "execute_result"
    }
   ],
   "source": [
    "# bottom 5 rows of our data\n",
    "\n",
    "df.tail(15)"
   ]
  },
  {
   "cell_type": "markdown",
   "id": "d7b23dd8-2cb7-43e9-b0d4-304b3558851d",
   "metadata": {},
   "source": [
    "#### Step 3: EDA and Summary Statistics"
   ]
  },
  {
   "cell_type": "code",
   "execution_count": 5,
   "id": "cf438e89-5e15-4ea9-8307-3537b0cf7df6",
   "metadata": {},
   "outputs": [
    {
     "data": {
      "text/plain": [
       "(2747, 20)"
      ]
     },
     "execution_count": 5,
     "metadata": {},
     "output_type": "execute_result"
    }
   ],
   "source": [
    "# The shape of the data: Total number of rows and columns\n",
    "\n",
    "df.shape"
   ]
  },
  {
   "cell_type": "code",
   "execution_count": 6,
   "id": "e0e09e09-3d44-48c9-b55b-d64556bc1b9f",
   "metadata": {},
   "outputs": [
    {
     "name": "stdout",
     "output_type": "stream",
     "text": [
      "<class 'pandas.core.frame.DataFrame'>\n",
      "RangeIndex: 2747 entries, 0 to 2746\n",
      "Data columns (total 20 columns):\n",
      " #   Column                Non-Null Count  Dtype  \n",
      "---  ------                --------------  -----  \n",
      " 0   ORDERNUMBER           2747 non-null   int64  \n",
      " 1   QUANTITYORDERED       2731 non-null   float64\n",
      " 2   PRICEEACH             2744 non-null   float64\n",
      " 3   ORDERLINENUMBER       2740 non-null   float64\n",
      " 4   SALES                 2744 non-null   float64\n",
      " 5   ORDERDATE             2747 non-null   object \n",
      " 6   DAYS_SINCE_LASTORDER  2747 non-null   int64  \n",
      " 7   STATUS                2742 non-null   object \n",
      " 8   PRODUCTLINE           2736 non-null   object \n",
      " 9   MSRP                  2747 non-null   int64  \n",
      " 10  PRODUCTCODE           2747 non-null   object \n",
      " 11  CUSTOMERNAME          2747 non-null   object \n",
      " 12  PHONE                 2747 non-null   object \n",
      " 13  ADDRESSLINE1          2747 non-null   object \n",
      " 14  CITY                  2747 non-null   object \n",
      " 15  POSTALCODE            2747 non-null   object \n",
      " 16  COUNTRY               2747 non-null   object \n",
      " 17  CONTACTLASTNAME       2747 non-null   object \n",
      " 18  CONTACTFIRSTNAME      2747 non-null   object \n",
      " 19  DEALSIZE              2734 non-null   object \n",
      "dtypes: float64(4), int64(3), object(13)\n",
      "memory usage: 429.3+ KB\n"
     ]
    }
   ],
   "source": [
    "# Check for data types and data information\n",
    "\n",
    "\n",
    "df.info()"
   ]
  },
  {
   "cell_type": "code",
   "execution_count": 7,
   "id": "82790937-32ed-4f03-a38b-30cac186ec4c",
   "metadata": {},
   "outputs": [
    {
     "data": {
      "text/html": [
       "<div>\n",
       "<style scoped>\n",
       "    .dataframe tbody tr th:only-of-type {\n",
       "        vertical-align: middle;\n",
       "    }\n",
       "\n",
       "    .dataframe tbody tr th {\n",
       "        vertical-align: top;\n",
       "    }\n",
       "\n",
       "    .dataframe thead th {\n",
       "        text-align: right;\n",
       "    }\n",
       "</style>\n",
       "<table border=\"1\" class=\"dataframe\">\n",
       "  <thead>\n",
       "    <tr style=\"text-align: right;\">\n",
       "      <th></th>\n",
       "      <th>ORDERNUMBER</th>\n",
       "      <th>QUANTITYORDERED</th>\n",
       "      <th>PRICEEACH</th>\n",
       "      <th>ORDERLINENUMBER</th>\n",
       "      <th>SALES</th>\n",
       "      <th>DAYS_SINCE_LASTORDER</th>\n",
       "      <th>MSRP</th>\n",
       "    </tr>\n",
       "  </thead>\n",
       "  <tbody>\n",
       "    <tr>\n",
       "      <th>count</th>\n",
       "      <td>2747.000000</td>\n",
       "      <td>2731.000000</td>\n",
       "      <td>2744.000000</td>\n",
       "      <td>2740.000000</td>\n",
       "      <td>2744.000000</td>\n",
       "      <td>2747.000000</td>\n",
       "      <td>2747.000000</td>\n",
       "    </tr>\n",
       "    <tr>\n",
       "      <th>mean</th>\n",
       "      <td>10259.761558</td>\n",
       "      <td>35.086781</td>\n",
       "      <td>101.052496</td>\n",
       "      <td>6.489051</td>\n",
       "      <td>3550.807562</td>\n",
       "      <td>1757.085912</td>\n",
       "      <td>100.691664</td>\n",
       "    </tr>\n",
       "    <tr>\n",
       "      <th>std</th>\n",
       "      <td>91.877521</td>\n",
       "      <td>9.696010</td>\n",
       "      <td>42.017627</td>\n",
       "      <td>4.230950</td>\n",
       "      <td>1836.763731</td>\n",
       "      <td>819.280576</td>\n",
       "      <td>40.114802</td>\n",
       "    </tr>\n",
       "    <tr>\n",
       "      <th>min</th>\n",
       "      <td>10100.000000</td>\n",
       "      <td>6.000000</td>\n",
       "      <td>26.880000</td>\n",
       "      <td>1.000000</td>\n",
       "      <td>482.130000</td>\n",
       "      <td>42.000000</td>\n",
       "      <td>33.000000</td>\n",
       "    </tr>\n",
       "    <tr>\n",
       "      <th>25%</th>\n",
       "      <td>10181.000000</td>\n",
       "      <td>27.000000</td>\n",
       "      <td>68.710000</td>\n",
       "      <td>3.000000</td>\n",
       "      <td>2204.100000</td>\n",
       "      <td>1077.000000</td>\n",
       "      <td>68.000000</td>\n",
       "    </tr>\n",
       "    <tr>\n",
       "      <th>50%</th>\n",
       "      <td>10264.000000</td>\n",
       "      <td>35.000000</td>\n",
       "      <td>95.550000</td>\n",
       "      <td>6.000000</td>\n",
       "      <td>3183.655000</td>\n",
       "      <td>1761.000000</td>\n",
       "      <td>99.000000</td>\n",
       "    </tr>\n",
       "    <tr>\n",
       "      <th>75%</th>\n",
       "      <td>10334.500000</td>\n",
       "      <td>43.000000</td>\n",
       "      <td>126.972500</td>\n",
       "      <td>9.000000</td>\n",
       "      <td>4500.642500</td>\n",
       "      <td>2436.500000</td>\n",
       "      <td>124.000000</td>\n",
       "    </tr>\n",
       "    <tr>\n",
       "      <th>max</th>\n",
       "      <td>10425.000000</td>\n",
       "      <td>85.000000</td>\n",
       "      <td>252.870000</td>\n",
       "      <td>18.000000</td>\n",
       "      <td>14082.800000</td>\n",
       "      <td>3562.000000</td>\n",
       "      <td>214.000000</td>\n",
       "    </tr>\n",
       "  </tbody>\n",
       "</table>\n",
       "</div>"
      ],
      "text/plain": [
       "        ORDERNUMBER  QUANTITYORDERED    PRICEEACH  ORDERLINENUMBER  \\\n",
       "count   2747.000000      2731.000000  2744.000000      2740.000000   \n",
       "mean   10259.761558        35.086781   101.052496         6.489051   \n",
       "std       91.877521         9.696010    42.017627         4.230950   \n",
       "min    10100.000000         6.000000    26.880000         1.000000   \n",
       "25%    10181.000000        27.000000    68.710000         3.000000   \n",
       "50%    10264.000000        35.000000    95.550000         6.000000   \n",
       "75%    10334.500000        43.000000   126.972500         9.000000   \n",
       "max    10425.000000        85.000000   252.870000        18.000000   \n",
       "\n",
       "              SALES  DAYS_SINCE_LASTORDER         MSRP  \n",
       "count   2744.000000           2747.000000  2747.000000  \n",
       "mean    3550.807562           1757.085912   100.691664  \n",
       "std     1836.763731            819.280576    40.114802  \n",
       "min      482.130000             42.000000    33.000000  \n",
       "25%     2204.100000           1077.000000    68.000000  \n",
       "50%     3183.655000           1761.000000    99.000000  \n",
       "75%     4500.642500           2436.500000   124.000000  \n",
       "max    14082.800000           3562.000000   214.000000  "
      ]
     },
     "execution_count": 7,
     "metadata": {},
     "output_type": "execute_result"
    }
   ],
   "source": [
    "# summary statistics for numerical variables(columns)\n",
    "\n",
    "df.describe()"
   ]
  },
  {
   "cell_type": "code",
   "execution_count": 8,
   "id": "37db08de-be06-4d26-b58e-6695f3140440",
   "metadata": {},
   "outputs": [
    {
     "data": {
      "text/html": [
       "<div>\n",
       "<style scoped>\n",
       "    .dataframe tbody tr th:only-of-type {\n",
       "        vertical-align: middle;\n",
       "    }\n",
       "\n",
       "    .dataframe tbody tr th {\n",
       "        vertical-align: top;\n",
       "    }\n",
       "\n",
       "    .dataframe thead th {\n",
       "        text-align: right;\n",
       "    }\n",
       "</style>\n",
       "<table border=\"1\" class=\"dataframe\">\n",
       "  <thead>\n",
       "    <tr style=\"text-align: right;\">\n",
       "      <th></th>\n",
       "      <th>ORDERDATE</th>\n",
       "      <th>STATUS</th>\n",
       "      <th>PRODUCTLINE</th>\n",
       "      <th>PRODUCTCODE</th>\n",
       "      <th>CUSTOMERNAME</th>\n",
       "      <th>PHONE</th>\n",
       "      <th>ADDRESSLINE1</th>\n",
       "      <th>CITY</th>\n",
       "      <th>POSTALCODE</th>\n",
       "      <th>COUNTRY</th>\n",
       "      <th>CONTACTLASTNAME</th>\n",
       "      <th>CONTACTFIRSTNAME</th>\n",
       "      <th>DEALSIZE</th>\n",
       "    </tr>\n",
       "  </thead>\n",
       "  <tbody>\n",
       "    <tr>\n",
       "      <th>count</th>\n",
       "      <td>2747</td>\n",
       "      <td>2742</td>\n",
       "      <td>2736</td>\n",
       "      <td>2747</td>\n",
       "      <td>2747</td>\n",
       "      <td>2747</td>\n",
       "      <td>2747</td>\n",
       "      <td>2747</td>\n",
       "      <td>2747</td>\n",
       "      <td>2747</td>\n",
       "      <td>2747</td>\n",
       "      <td>2747</td>\n",
       "      <td>2734</td>\n",
       "    </tr>\n",
       "    <tr>\n",
       "      <th>unique</th>\n",
       "      <td>246</td>\n",
       "      <td>6</td>\n",
       "      <td>7</td>\n",
       "      <td>109</td>\n",
       "      <td>89</td>\n",
       "      <td>88</td>\n",
       "      <td>89</td>\n",
       "      <td>71</td>\n",
       "      <td>73</td>\n",
       "      <td>19</td>\n",
       "      <td>76</td>\n",
       "      <td>72</td>\n",
       "      <td>3</td>\n",
       "    </tr>\n",
       "    <tr>\n",
       "      <th>top</th>\n",
       "      <td>14/11/2018</td>\n",
       "      <td>Shipped</td>\n",
       "      <td>Classic Cars</td>\n",
       "      <td>S18_3232</td>\n",
       "      <td>Euro Shopping Channel</td>\n",
       "      <td>(91) 555 94 44</td>\n",
       "      <td>C/ Moralzarzal, 86</td>\n",
       "      <td>Madrid</td>\n",
       "      <td>28034</td>\n",
       "      <td>USA</td>\n",
       "      <td>Freyre</td>\n",
       "      <td>Diego</td>\n",
       "      <td>Medium</td>\n",
       "    </tr>\n",
       "    <tr>\n",
       "      <th>freq</th>\n",
       "      <td>38</td>\n",
       "      <td>2539</td>\n",
       "      <td>946</td>\n",
       "      <td>51</td>\n",
       "      <td>259</td>\n",
       "      <td>259</td>\n",
       "      <td>259</td>\n",
       "      <td>304</td>\n",
       "      <td>259</td>\n",
       "      <td>928</td>\n",
       "      <td>259</td>\n",
       "      <td>259</td>\n",
       "      <td>1341</td>\n",
       "    </tr>\n",
       "  </tbody>\n",
       "</table>\n",
       "</div>"
      ],
      "text/plain": [
       "         ORDERDATE   STATUS   PRODUCTLINE PRODUCTCODE           CUSTOMERNAME  \\\n",
       "count         2747     2742          2736        2747                   2747   \n",
       "unique         246        6             7         109                     89   \n",
       "top     14/11/2018  Shipped  Classic Cars    S18_3232  Euro Shopping Channel   \n",
       "freq            38     2539           946          51                    259   \n",
       "\n",
       "                 PHONE        ADDRESSLINE1    CITY POSTALCODE COUNTRY  \\\n",
       "count             2747                2747    2747       2747    2747   \n",
       "unique              88                  89      71         73      19   \n",
       "top     (91) 555 94 44  C/ Moralzarzal, 86  Madrid      28034     USA   \n",
       "freq               259                 259     304        259     928   \n",
       "\n",
       "       CONTACTLASTNAME CONTACTFIRSTNAME DEALSIZE  \n",
       "count             2747             2747     2734  \n",
       "unique              76               72        3  \n",
       "top             Freyre            Diego   Medium  \n",
       "freq               259              259     1341  "
      ]
     },
     "execution_count": 8,
     "metadata": {},
     "output_type": "execute_result"
    }
   ],
   "source": [
    "df.describe(include='object')"
   ]
  },
  {
   "cell_type": "code",
   "execution_count": 9,
   "id": "f69af7d8-9ec4-4812-8e9d-95de405ba568",
   "metadata": {},
   "outputs": [
    {
     "data": {
      "text/html": [
       "<div>\n",
       "<style scoped>\n",
       "    .dataframe tbody tr th:only-of-type {\n",
       "        vertical-align: middle;\n",
       "    }\n",
       "\n",
       "    .dataframe tbody tr th {\n",
       "        vertical-align: top;\n",
       "    }\n",
       "\n",
       "    .dataframe thead th {\n",
       "        text-align: right;\n",
       "    }\n",
       "</style>\n",
       "<table border=\"1\" class=\"dataframe\">\n",
       "  <thead>\n",
       "    <tr style=\"text-align: right;\">\n",
       "      <th></th>\n",
       "      <th>ORDERNUMBER</th>\n",
       "      <th>QUANTITYORDERED</th>\n",
       "      <th>PRICEEACH</th>\n",
       "      <th>ORDERLINENUMBER</th>\n",
       "      <th>SALES</th>\n",
       "      <th>ORDERDATE</th>\n",
       "      <th>DAYS_SINCE_LASTORDER</th>\n",
       "      <th>STATUS</th>\n",
       "      <th>PRODUCTLINE</th>\n",
       "      <th>MSRP</th>\n",
       "      <th>PRODUCTCODE</th>\n",
       "      <th>CUSTOMERNAME</th>\n",
       "      <th>PHONE</th>\n",
       "      <th>ADDRESSLINE1</th>\n",
       "      <th>CITY</th>\n",
       "      <th>POSTALCODE</th>\n",
       "      <th>COUNTRY</th>\n",
       "      <th>CONTACTLASTNAME</th>\n",
       "      <th>CONTACTFIRSTNAME</th>\n",
       "      <th>DEALSIZE</th>\n",
       "    </tr>\n",
       "  </thead>\n",
       "  <tbody>\n",
       "    <tr>\n",
       "      <th>count</th>\n",
       "      <td>2747.000000</td>\n",
       "      <td>2731.000000</td>\n",
       "      <td>2744.000000</td>\n",
       "      <td>2740.000000</td>\n",
       "      <td>2744.000000</td>\n",
       "      <td>2747</td>\n",
       "      <td>2747.000000</td>\n",
       "      <td>2742</td>\n",
       "      <td>2736</td>\n",
       "      <td>2747.000000</td>\n",
       "      <td>2747</td>\n",
       "      <td>2747</td>\n",
       "      <td>2747</td>\n",
       "      <td>2747</td>\n",
       "      <td>2747</td>\n",
       "      <td>2747</td>\n",
       "      <td>2747</td>\n",
       "      <td>2747</td>\n",
       "      <td>2747</td>\n",
       "      <td>2734</td>\n",
       "    </tr>\n",
       "    <tr>\n",
       "      <th>unique</th>\n",
       "      <td>NaN</td>\n",
       "      <td>NaN</td>\n",
       "      <td>NaN</td>\n",
       "      <td>NaN</td>\n",
       "      <td>NaN</td>\n",
       "      <td>246</td>\n",
       "      <td>NaN</td>\n",
       "      <td>6</td>\n",
       "      <td>7</td>\n",
       "      <td>NaN</td>\n",
       "      <td>109</td>\n",
       "      <td>89</td>\n",
       "      <td>88</td>\n",
       "      <td>89</td>\n",
       "      <td>71</td>\n",
       "      <td>73</td>\n",
       "      <td>19</td>\n",
       "      <td>76</td>\n",
       "      <td>72</td>\n",
       "      <td>3</td>\n",
       "    </tr>\n",
       "    <tr>\n",
       "      <th>top</th>\n",
       "      <td>NaN</td>\n",
       "      <td>NaN</td>\n",
       "      <td>NaN</td>\n",
       "      <td>NaN</td>\n",
       "      <td>NaN</td>\n",
       "      <td>14/11/2018</td>\n",
       "      <td>NaN</td>\n",
       "      <td>Shipped</td>\n",
       "      <td>Classic Cars</td>\n",
       "      <td>NaN</td>\n",
       "      <td>S18_3232</td>\n",
       "      <td>Euro Shopping Channel</td>\n",
       "      <td>(91) 555 94 44</td>\n",
       "      <td>C/ Moralzarzal, 86</td>\n",
       "      <td>Madrid</td>\n",
       "      <td>28034</td>\n",
       "      <td>USA</td>\n",
       "      <td>Freyre</td>\n",
       "      <td>Diego</td>\n",
       "      <td>Medium</td>\n",
       "    </tr>\n",
       "    <tr>\n",
       "      <th>freq</th>\n",
       "      <td>NaN</td>\n",
       "      <td>NaN</td>\n",
       "      <td>NaN</td>\n",
       "      <td>NaN</td>\n",
       "      <td>NaN</td>\n",
       "      <td>38</td>\n",
       "      <td>NaN</td>\n",
       "      <td>2539</td>\n",
       "      <td>946</td>\n",
       "      <td>NaN</td>\n",
       "      <td>51</td>\n",
       "      <td>259</td>\n",
       "      <td>259</td>\n",
       "      <td>259</td>\n",
       "      <td>304</td>\n",
       "      <td>259</td>\n",
       "      <td>928</td>\n",
       "      <td>259</td>\n",
       "      <td>259</td>\n",
       "      <td>1341</td>\n",
       "    </tr>\n",
       "    <tr>\n",
       "      <th>mean</th>\n",
       "      <td>10259.761558</td>\n",
       "      <td>35.086781</td>\n",
       "      <td>101.052496</td>\n",
       "      <td>6.489051</td>\n",
       "      <td>3550.807562</td>\n",
       "      <td>NaN</td>\n",
       "      <td>1757.085912</td>\n",
       "      <td>NaN</td>\n",
       "      <td>NaN</td>\n",
       "      <td>100.691664</td>\n",
       "      <td>NaN</td>\n",
       "      <td>NaN</td>\n",
       "      <td>NaN</td>\n",
       "      <td>NaN</td>\n",
       "      <td>NaN</td>\n",
       "      <td>NaN</td>\n",
       "      <td>NaN</td>\n",
       "      <td>NaN</td>\n",
       "      <td>NaN</td>\n",
       "      <td>NaN</td>\n",
       "    </tr>\n",
       "    <tr>\n",
       "      <th>std</th>\n",
       "      <td>91.877521</td>\n",
       "      <td>9.696010</td>\n",
       "      <td>42.017627</td>\n",
       "      <td>4.230950</td>\n",
       "      <td>1836.763731</td>\n",
       "      <td>NaN</td>\n",
       "      <td>819.280576</td>\n",
       "      <td>NaN</td>\n",
       "      <td>NaN</td>\n",
       "      <td>40.114802</td>\n",
       "      <td>NaN</td>\n",
       "      <td>NaN</td>\n",
       "      <td>NaN</td>\n",
       "      <td>NaN</td>\n",
       "      <td>NaN</td>\n",
       "      <td>NaN</td>\n",
       "      <td>NaN</td>\n",
       "      <td>NaN</td>\n",
       "      <td>NaN</td>\n",
       "      <td>NaN</td>\n",
       "    </tr>\n",
       "    <tr>\n",
       "      <th>min</th>\n",
       "      <td>10100.000000</td>\n",
       "      <td>6.000000</td>\n",
       "      <td>26.880000</td>\n",
       "      <td>1.000000</td>\n",
       "      <td>482.130000</td>\n",
       "      <td>NaN</td>\n",
       "      <td>42.000000</td>\n",
       "      <td>NaN</td>\n",
       "      <td>NaN</td>\n",
       "      <td>33.000000</td>\n",
       "      <td>NaN</td>\n",
       "      <td>NaN</td>\n",
       "      <td>NaN</td>\n",
       "      <td>NaN</td>\n",
       "      <td>NaN</td>\n",
       "      <td>NaN</td>\n",
       "      <td>NaN</td>\n",
       "      <td>NaN</td>\n",
       "      <td>NaN</td>\n",
       "      <td>NaN</td>\n",
       "    </tr>\n",
       "    <tr>\n",
       "      <th>25%</th>\n",
       "      <td>10181.000000</td>\n",
       "      <td>27.000000</td>\n",
       "      <td>68.710000</td>\n",
       "      <td>3.000000</td>\n",
       "      <td>2204.100000</td>\n",
       "      <td>NaN</td>\n",
       "      <td>1077.000000</td>\n",
       "      <td>NaN</td>\n",
       "      <td>NaN</td>\n",
       "      <td>68.000000</td>\n",
       "      <td>NaN</td>\n",
       "      <td>NaN</td>\n",
       "      <td>NaN</td>\n",
       "      <td>NaN</td>\n",
       "      <td>NaN</td>\n",
       "      <td>NaN</td>\n",
       "      <td>NaN</td>\n",
       "      <td>NaN</td>\n",
       "      <td>NaN</td>\n",
       "      <td>NaN</td>\n",
       "    </tr>\n",
       "    <tr>\n",
       "      <th>50%</th>\n",
       "      <td>10264.000000</td>\n",
       "      <td>35.000000</td>\n",
       "      <td>95.550000</td>\n",
       "      <td>6.000000</td>\n",
       "      <td>3183.655000</td>\n",
       "      <td>NaN</td>\n",
       "      <td>1761.000000</td>\n",
       "      <td>NaN</td>\n",
       "      <td>NaN</td>\n",
       "      <td>99.000000</td>\n",
       "      <td>NaN</td>\n",
       "      <td>NaN</td>\n",
       "      <td>NaN</td>\n",
       "      <td>NaN</td>\n",
       "      <td>NaN</td>\n",
       "      <td>NaN</td>\n",
       "      <td>NaN</td>\n",
       "      <td>NaN</td>\n",
       "      <td>NaN</td>\n",
       "      <td>NaN</td>\n",
       "    </tr>\n",
       "    <tr>\n",
       "      <th>75%</th>\n",
       "      <td>10334.500000</td>\n",
       "      <td>43.000000</td>\n",
       "      <td>126.972500</td>\n",
       "      <td>9.000000</td>\n",
       "      <td>4500.642500</td>\n",
       "      <td>NaN</td>\n",
       "      <td>2436.500000</td>\n",
       "      <td>NaN</td>\n",
       "      <td>NaN</td>\n",
       "      <td>124.000000</td>\n",
       "      <td>NaN</td>\n",
       "      <td>NaN</td>\n",
       "      <td>NaN</td>\n",
       "      <td>NaN</td>\n",
       "      <td>NaN</td>\n",
       "      <td>NaN</td>\n",
       "      <td>NaN</td>\n",
       "      <td>NaN</td>\n",
       "      <td>NaN</td>\n",
       "      <td>NaN</td>\n",
       "    </tr>\n",
       "    <tr>\n",
       "      <th>max</th>\n",
       "      <td>10425.000000</td>\n",
       "      <td>85.000000</td>\n",
       "      <td>252.870000</td>\n",
       "      <td>18.000000</td>\n",
       "      <td>14082.800000</td>\n",
       "      <td>NaN</td>\n",
       "      <td>3562.000000</td>\n",
       "      <td>NaN</td>\n",
       "      <td>NaN</td>\n",
       "      <td>214.000000</td>\n",
       "      <td>NaN</td>\n",
       "      <td>NaN</td>\n",
       "      <td>NaN</td>\n",
       "      <td>NaN</td>\n",
       "      <td>NaN</td>\n",
       "      <td>NaN</td>\n",
       "      <td>NaN</td>\n",
       "      <td>NaN</td>\n",
       "      <td>NaN</td>\n",
       "      <td>NaN</td>\n",
       "    </tr>\n",
       "  </tbody>\n",
       "</table>\n",
       "</div>"
      ],
      "text/plain": [
       "         ORDERNUMBER  QUANTITYORDERED    PRICEEACH  ORDERLINENUMBER  \\\n",
       "count    2747.000000      2731.000000  2744.000000      2740.000000   \n",
       "unique           NaN              NaN          NaN              NaN   \n",
       "top              NaN              NaN          NaN              NaN   \n",
       "freq             NaN              NaN          NaN              NaN   \n",
       "mean    10259.761558        35.086781   101.052496         6.489051   \n",
       "std        91.877521         9.696010    42.017627         4.230950   \n",
       "min     10100.000000         6.000000    26.880000         1.000000   \n",
       "25%     10181.000000        27.000000    68.710000         3.000000   \n",
       "50%     10264.000000        35.000000    95.550000         6.000000   \n",
       "75%     10334.500000        43.000000   126.972500         9.000000   \n",
       "max     10425.000000        85.000000   252.870000        18.000000   \n",
       "\n",
       "               SALES   ORDERDATE  DAYS_SINCE_LASTORDER   STATUS   PRODUCTLINE  \\\n",
       "count    2744.000000        2747           2747.000000     2742          2736   \n",
       "unique           NaN         246                   NaN        6             7   \n",
       "top              NaN  14/11/2018                   NaN  Shipped  Classic Cars   \n",
       "freq             NaN          38                   NaN     2539           946   \n",
       "mean     3550.807562         NaN           1757.085912      NaN           NaN   \n",
       "std      1836.763731         NaN            819.280576      NaN           NaN   \n",
       "min       482.130000         NaN             42.000000      NaN           NaN   \n",
       "25%      2204.100000         NaN           1077.000000      NaN           NaN   \n",
       "50%      3183.655000         NaN           1761.000000      NaN           NaN   \n",
       "75%      4500.642500         NaN           2436.500000      NaN           NaN   \n",
       "max     14082.800000         NaN           3562.000000      NaN           NaN   \n",
       "\n",
       "               MSRP PRODUCTCODE           CUSTOMERNAME           PHONE  \\\n",
       "count   2747.000000        2747                   2747            2747   \n",
       "unique          NaN         109                     89              88   \n",
       "top             NaN    S18_3232  Euro Shopping Channel  (91) 555 94 44   \n",
       "freq            NaN          51                    259             259   \n",
       "mean     100.691664         NaN                    NaN             NaN   \n",
       "std       40.114802         NaN                    NaN             NaN   \n",
       "min       33.000000         NaN                    NaN             NaN   \n",
       "25%       68.000000         NaN                    NaN             NaN   \n",
       "50%       99.000000         NaN                    NaN             NaN   \n",
       "75%      124.000000         NaN                    NaN             NaN   \n",
       "max      214.000000         NaN                    NaN             NaN   \n",
       "\n",
       "              ADDRESSLINE1    CITY POSTALCODE COUNTRY CONTACTLASTNAME  \\\n",
       "count                 2747    2747       2747    2747            2747   \n",
       "unique                  89      71         73      19              76   \n",
       "top     C/ Moralzarzal, 86  Madrid      28034     USA          Freyre   \n",
       "freq                   259     304        259     928             259   \n",
       "mean                   NaN     NaN        NaN     NaN             NaN   \n",
       "std                    NaN     NaN        NaN     NaN             NaN   \n",
       "min                    NaN     NaN        NaN     NaN             NaN   \n",
       "25%                    NaN     NaN        NaN     NaN             NaN   \n",
       "50%                    NaN     NaN        NaN     NaN             NaN   \n",
       "75%                    NaN     NaN        NaN     NaN             NaN   \n",
       "max                    NaN     NaN        NaN     NaN             NaN   \n",
       "\n",
       "       CONTACTFIRSTNAME DEALSIZE  \n",
       "count              2747     2734  \n",
       "unique               72        3  \n",
       "top               Diego   Medium  \n",
       "freq                259     1341  \n",
       "mean                NaN      NaN  \n",
       "std                 NaN      NaN  \n",
       "min                 NaN      NaN  \n",
       "25%                 NaN      NaN  \n",
       "50%                 NaN      NaN  \n",
       "75%                 NaN      NaN  \n",
       "max                 NaN      NaN  "
      ]
     },
     "execution_count": 9,
     "metadata": {},
     "output_type": "execute_result"
    }
   ],
   "source": [
    "df.describe(include='all')"
   ]
  },
  {
   "cell_type": "code",
   "execution_count": 10,
   "id": "73eabac6-2908-4301-a003-7fbe89ce939f",
   "metadata": {},
   "outputs": [
    {
     "data": {
      "text/plain": [
       "ORDERNUMBER              0\n",
       "QUANTITYORDERED         16\n",
       "PRICEEACH                3\n",
       "ORDERLINENUMBER          7\n",
       "SALES                    3\n",
       "ORDERDATE                0\n",
       "DAYS_SINCE_LASTORDER     0\n",
       "STATUS                   5\n",
       "PRODUCTLINE             11\n",
       "MSRP                     0\n",
       "PRODUCTCODE              0\n",
       "CUSTOMERNAME             0\n",
       "PHONE                    0\n",
       "ADDRESSLINE1             0\n",
       "CITY                     0\n",
       "POSTALCODE               0\n",
       "COUNTRY                  0\n",
       "CONTACTLASTNAME          0\n",
       "CONTACTFIRSTNAME         0\n",
       "DEALSIZE                13\n",
       "dtype: int64"
      ]
     },
     "execution_count": 10,
     "metadata": {},
     "output_type": "execute_result"
    }
   ],
   "source": [
    "# Run a check for missing values\n",
    "# null(), isna() \n",
    "\n",
    "\n",
    "df.isna().sum()"
   ]
  },
  {
   "cell_type": "code",
   "execution_count": 11,
   "id": "e17b06dd-5173-4145-8e7a-651dce53c02b",
   "metadata": {},
   "outputs": [
    {
     "data": {
      "text/plain": [
       "np.int64(0)"
      ]
     },
     "execution_count": 11,
     "metadata": {},
     "output_type": "execute_result"
    }
   ],
   "source": [
    "# Check for duplicate data\n",
    "\n",
    "df.duplicated().sum()"
   ]
  },
  {
   "cell_type": "code",
   "execution_count": 12,
   "id": "9f2f5d9e-d77b-4520-8f24-072b84acdff8",
   "metadata": {},
   "outputs": [
    {
     "data": {
      "text/plain": [
       "ORDERNUMBER               int64\n",
       "QUANTITYORDERED         float64\n",
       "PRICEEACH               float64\n",
       "ORDERLINENUMBER         float64\n",
       "SALES                   float64\n",
       "ORDERDATE                object\n",
       "DAYS_SINCE_LASTORDER      int64\n",
       "STATUS                   object\n",
       "PRODUCTLINE              object\n",
       "MSRP                      int64\n",
       "PRODUCTCODE              object\n",
       "CUSTOMERNAME             object\n",
       "PHONE                    object\n",
       "ADDRESSLINE1             object\n",
       "CITY                     object\n",
       "POSTALCODE               object\n",
       "COUNTRY                  object\n",
       "CONTACTLASTNAME          object\n",
       "CONTACTFIRSTNAME         object\n",
       "DEALSIZE                 object\n",
       "dtype: object"
      ]
     },
     "execution_count": 12,
     "metadata": {},
     "output_type": "execute_result"
    }
   ],
   "source": [
    "df.dtypes"
   ]
  },
  {
   "cell_type": "code",
   "execution_count": 13,
   "id": "318de6a6-5d59-4a72-9826-8107f27eb781",
   "metadata": {},
   "outputs": [
    {
     "data": {
      "text/plain": [
       "Index(['ORDERNUMBER', 'QUANTITYORDERED', 'PRICEEACH', 'ORDERLINENUMBER',\n",
       "       'SALES', 'ORDERDATE', 'DAYS_SINCE_LASTORDER', 'STATUS', 'PRODUCTLINE',\n",
       "       'MSRP', 'PRODUCTCODE', 'CUSTOMERNAME', 'PHONE', 'ADDRESSLINE1', 'CITY',\n",
       "       'POSTALCODE', 'COUNTRY', 'CONTACTLASTNAME', 'CONTACTFIRSTNAME',\n",
       "       'DEALSIZE'],\n",
       "      dtype='object')"
      ]
     },
     "execution_count": 13,
     "metadata": {},
     "output_type": "execute_result"
    }
   ],
   "source": [
    "df.columns"
   ]
  },
  {
   "cell_type": "code",
   "execution_count": null,
   "id": "1172a0c9-7121-4428-b984-691385ac5362",
   "metadata": {},
   "outputs": [],
   "source": []
  },
  {
   "cell_type": "markdown",
   "id": "a57b1fcd-86aa-409d-a7e0-fbe3f8fcda3e",
   "metadata": {},
   "source": [
    "#### Step 4: Data Cleaning"
   ]
  },
  {
   "cell_type": "code",
   "execution_count": 14,
   "id": "db565588-0284-4301-ac08-057faff486a3",
   "metadata": {},
   "outputs": [],
   "source": [
    "# 1. Drop unnecessary columns\n",
    "\n",
    "df = df.drop(['POSTALCODE', 'CONTACTFIRSTNAME', 'PHONE', 'ADDRESSLINE1'], axis=1)"
   ]
  },
  {
   "cell_type": "code",
   "execution_count": 15,
   "id": "93abff19-dc05-444f-bdd8-525390d3633d",
   "metadata": {},
   "outputs": [
    {
     "data": {
      "text/plain": [
       "(2747, 16)"
      ]
     },
     "execution_count": 15,
     "metadata": {},
     "output_type": "execute_result"
    }
   ],
   "source": [
    "df.shape"
   ]
  },
  {
   "cell_type": "code",
   "execution_count": 16,
   "id": "25e6a7bc-431c-4a77-8c13-4f981d097be2",
   "metadata": {},
   "outputs": [
    {
     "data": {
      "text/plain": [
       "0    24/02/2018\n",
       "1      7/5/2018\n",
       "2      1/7/2018\n",
       "3    25/08/2018\n",
       "4    28/10/2018\n",
       "Name: ORDERDATE, dtype: object"
      ]
     },
     "execution_count": 16,
     "metadata": {},
     "output_type": "execute_result"
    }
   ],
   "source": [
    "# 2. Convert Orderdate from object to datetime\n",
    "\n",
    "df['ORDERDATE'].head()"
   ]
  },
  {
   "cell_type": "code",
   "execution_count": 17,
   "id": "393a2aa3-43de-4812-9dd6-dd9d796b3cb2",
   "metadata": {},
   "outputs": [
    {
     "data": {
      "text/html": [
       "<div>\n",
       "<style scoped>\n",
       "    .dataframe tbody tr th:only-of-type {\n",
       "        vertical-align: middle;\n",
       "    }\n",
       "\n",
       "    .dataframe tbody tr th {\n",
       "        vertical-align: top;\n",
       "    }\n",
       "\n",
       "    .dataframe thead th {\n",
       "        text-align: right;\n",
       "    }\n",
       "</style>\n",
       "<table border=\"1\" class=\"dataframe\">\n",
       "  <thead>\n",
       "    <tr style=\"text-align: right;\">\n",
       "      <th></th>\n",
       "      <th>QUANTITYORDERED</th>\n",
       "      <th>DEALSIZE</th>\n",
       "      <th>SALES</th>\n",
       "    </tr>\n",
       "  </thead>\n",
       "  <tbody>\n",
       "    <tr>\n",
       "      <th>0</th>\n",
       "      <td>30.0</td>\n",
       "      <td>Small</td>\n",
       "      <td>2871.00</td>\n",
       "    </tr>\n",
       "    <tr>\n",
       "      <th>1</th>\n",
       "      <td>34.0</td>\n",
       "      <td>Small</td>\n",
       "      <td>2765.90</td>\n",
       "    </tr>\n",
       "    <tr>\n",
       "      <th>2</th>\n",
       "      <td>41.0</td>\n",
       "      <td>Medium</td>\n",
       "      <td>3884.34</td>\n",
       "    </tr>\n",
       "    <tr>\n",
       "      <th>3</th>\n",
       "      <td>45.0</td>\n",
       "      <td>Medium</td>\n",
       "      <td>NaN</td>\n",
       "    </tr>\n",
       "    <tr>\n",
       "      <th>4</th>\n",
       "      <td>36.0</td>\n",
       "      <td>Medium</td>\n",
       "      <td>3479.76</td>\n",
       "    </tr>\n",
       "  </tbody>\n",
       "</table>\n",
       "</div>"
      ],
      "text/plain": [
       "   QUANTITYORDERED DEALSIZE    SALES\n",
       "0             30.0    Small  2871.00\n",
       "1             34.0    Small  2765.90\n",
       "2             41.0   Medium  3884.34\n",
       "3             45.0   Medium      NaN\n",
       "4             36.0   Medium  3479.76"
      ]
     },
     "execution_count": 17,
     "metadata": {},
     "output_type": "execute_result"
    }
   ],
   "source": [
    "df[['QUANTITYORDERED', 'DEALSIZE', 'SALES']].head()"
   ]
  },
  {
   "cell_type": "code",
   "execution_count": 18,
   "id": "1803c7b4-0062-43b8-85df-edb40f8881a8",
   "metadata": {},
   "outputs": [],
   "source": [
    "# Use to_datetime function to convert the orderdate column\n",
    "\n",
    "df['ORDERDATE'] = pd.to_datetime(df['ORDERDATE'])"
   ]
  },
  {
   "cell_type": "code",
   "execution_count": 19,
   "id": "ec0a6bdd-27fe-4841-83c0-ea651c7299c9",
   "metadata": {},
   "outputs": [
    {
     "name": "stdout",
     "output_type": "stream",
     "text": [
      "<class 'pandas.core.frame.DataFrame'>\n",
      "RangeIndex: 2747 entries, 0 to 2746\n",
      "Data columns (total 16 columns):\n",
      " #   Column                Non-Null Count  Dtype         \n",
      "---  ------                --------------  -----         \n",
      " 0   ORDERNUMBER           2747 non-null   int64         \n",
      " 1   QUANTITYORDERED       2731 non-null   float64       \n",
      " 2   PRICEEACH             2744 non-null   float64       \n",
      " 3   ORDERLINENUMBER       2740 non-null   float64       \n",
      " 4   SALES                 2744 non-null   float64       \n",
      " 5   ORDERDATE             2747 non-null   datetime64[ns]\n",
      " 6   DAYS_SINCE_LASTORDER  2747 non-null   int64         \n",
      " 7   STATUS                2742 non-null   object        \n",
      " 8   PRODUCTLINE           2736 non-null   object        \n",
      " 9   MSRP                  2747 non-null   int64         \n",
      " 10  PRODUCTCODE           2747 non-null   object        \n",
      " 11  CUSTOMERNAME          2747 non-null   object        \n",
      " 12  CITY                  2747 non-null   object        \n",
      " 13  COUNTRY               2747 non-null   object        \n",
      " 14  CONTACTLASTNAME       2747 non-null   object        \n",
      " 15  DEALSIZE              2734 non-null   object        \n",
      "dtypes: datetime64[ns](1), float64(4), int64(3), object(8)\n",
      "memory usage: 343.5+ KB\n"
     ]
    }
   ],
   "source": [
    "df.info()"
   ]
  },
  {
   "cell_type": "code",
   "execution_count": 20,
   "id": "df01e428-ac89-4004-8ddc-aae8669f4399",
   "metadata": {},
   "outputs": [],
   "source": [
    "ds = {\n",
    "    'name' : 'Ade',\n",
    "    'class': 'SS2',\n",
    "    'dept': 'science',\n",
    "    'age': 14\n",
    "}"
   ]
  },
  {
   "cell_type": "code",
   "execution_count": 21,
   "id": "e98d4e75-74dc-4a35-95ff-1357e3926c65",
   "metadata": {},
   "outputs": [
    {
     "data": {
      "text/plain": [
       "{'name': 'Ade', 'class': 'SS2', 'dept': 'science', 'age': 14}"
      ]
     },
     "execution_count": 21,
     "metadata": {},
     "output_type": "execute_result"
    }
   ],
   "source": [
    "ds"
   ]
  },
  {
   "cell_type": "code",
   "execution_count": 22,
   "id": "13f00954-f6f0-4864-ab5d-6c28bc43bbb9",
   "metadata": {},
   "outputs": [
    {
     "data": {
      "text/plain": [
       "14"
      ]
     },
     "execution_count": 22,
     "metadata": {},
     "output_type": "execute_result"
    }
   ],
   "source": [
    "ds['age']"
   ]
  },
  {
   "cell_type": "markdown",
   "id": "51a282ab-42be-41fe-93d4-b858e0538b40",
   "metadata": {},
   "source": [
    "# 3. Fill up missing values\n",
    "\n"
   ]
  },
  {
   "cell_type": "code",
   "execution_count": 23,
   "id": "4d1697c4-6b06-481f-a8ee-c6beb3c0b4b7",
   "metadata": {},
   "outputs": [
    {
     "name": "stdout",
     "output_type": "stream",
     "text": [
      "35.086781398755036\n"
     ]
    }
   ],
   "source": [
    "# a. Find the mean of numerical variables\n",
    "\n",
    "qo_mean = df['QUANTITYORDERED'].mean()\n",
    "\n",
    "\n",
    "print(qo_mean)"
   ]
  },
  {
   "cell_type": "code",
   "execution_count": 24,
   "id": "ab2da33b-7a46-4b5c-b418-4a78f2eb94d0",
   "metadata": {},
   "outputs": [],
   "source": [
    "# Fill Quantity Ordered columns with the calculated mean (qo_mean)\n",
    "\n",
    "df['QUANTITYORDERED'] = df['QUANTITYORDERED'].fillna(qo_mean)"
   ]
  },
  {
   "cell_type": "code",
   "execution_count": 25,
   "id": "79d8569f-0a0a-4373-8197-8e50694df61c",
   "metadata": {},
   "outputs": [
    {
     "data": {
      "text/plain": [
       "np.int64(0)"
      ]
     },
     "execution_count": 25,
     "metadata": {},
     "output_type": "execute_result"
    }
   ],
   "source": [
    "df['QUANTITYORDERED'].isna().sum()"
   ]
  },
  {
   "cell_type": "code",
   "execution_count": 26,
   "id": "8c47cc44-e6e7-4ac8-a5a5-22c317a68a50",
   "metadata": {},
   "outputs": [
    {
     "name": "stdout",
     "output_type": "stream",
     "text": [
      "Classic Cars\n"
     ]
    }
   ],
   "source": [
    "pl_mode = df['PRODUCTLINE'].mode()[0]\n",
    "\n",
    "print(pl_mode)"
   ]
  },
  {
   "cell_type": "code",
   "execution_count": 27,
   "id": "98da0f90-cbd6-4de7-82de-9608cbc19e01",
   "metadata": {},
   "outputs": [
    {
     "data": {
      "text/plain": [
       "'ship'"
      ]
     },
     "execution_count": 27,
     "metadata": {},
     "output_type": "execute_result"
    }
   ],
   "source": [
    "list_one = ['ship', 'car', 'bike', 'bicycle']\n",
    "\n",
    "list_one[0]"
   ]
  },
  {
   "cell_type": "code",
   "execution_count": 28,
   "id": "fba91de6-21fd-408a-a1ce-57f40524a6d9",
   "metadata": {},
   "outputs": [],
   "source": [
    "# fill product line column with the mode (pl_mode)\n",
    "\n",
    "df['PRODUCTLINE'] = df['PRODUCTLINE'].fillna(pl_mode)"
   ]
  },
  {
   "cell_type": "code",
   "execution_count": 29,
   "id": "814608b9-8e47-449c-8abe-a28d8b43c77d",
   "metadata": {},
   "outputs": [
    {
     "name": "stdout",
     "output_type": "stream",
     "text": [
      "Medium\n"
     ]
    }
   ],
   "source": [
    "ds_mode = df['DEALSIZE'].mode()[0]\n",
    "\n",
    "print(ds_mode)"
   ]
  },
  {
   "cell_type": "code",
   "execution_count": 30,
   "id": "b9a1bec1-768e-48ce-b52c-9e69727e9405",
   "metadata": {},
   "outputs": [],
   "source": [
    "df['DEALSIZE'] = df['DEALSIZE'].fillna(ds_mode)"
   ]
  },
  {
   "cell_type": "code",
   "execution_count": 31,
   "id": "b63755f8-3106-420a-a16c-9ab57f2f0096",
   "metadata": {},
   "outputs": [],
   "source": [
    "# Drop the missing values with less numbers\n",
    "\n",
    "df = df.dropna()"
   ]
  },
  {
   "cell_type": "code",
   "execution_count": 32,
   "id": "e2e23026-6a30-4bd0-bbcf-2c2de0aaf867",
   "metadata": {},
   "outputs": [
    {
     "data": {
      "text/plain": [
       "(2732, 16)"
      ]
     },
     "execution_count": 32,
     "metadata": {},
     "output_type": "execute_result"
    }
   ],
   "source": [
    "df.shape"
   ]
  },
  {
   "cell_type": "code",
   "execution_count": 33,
   "id": "0233a06d-4ae0-4420-9735-d80063593a40",
   "metadata": {},
   "outputs": [],
   "source": [
    "# Extract day, year and month from the Order date\n",
    "\n",
    "df['YEAR'] = df['ORDERDATE'].dt.year\n",
    "df['MONTH'] = df['ORDERDATE'].dt.month_name()\n",
    "df['DAY'] = df['ORDERDATE'].dt.day_name()"
   ]
  },
  {
   "cell_type": "code",
   "execution_count": 34,
   "id": "ac305025-f769-40d5-93a6-6a35bc0c0a2c",
   "metadata": {},
   "outputs": [
    {
     "data": {
      "text/html": [
       "<div>\n",
       "<style scoped>\n",
       "    .dataframe tbody tr th:only-of-type {\n",
       "        vertical-align: middle;\n",
       "    }\n",
       "\n",
       "    .dataframe tbody tr th {\n",
       "        vertical-align: top;\n",
       "    }\n",
       "\n",
       "    .dataframe thead th {\n",
       "        text-align: right;\n",
       "    }\n",
       "</style>\n",
       "<table border=\"1\" class=\"dataframe\">\n",
       "  <thead>\n",
       "    <tr style=\"text-align: right;\">\n",
       "      <th></th>\n",
       "      <th>ORDERNUMBER</th>\n",
       "      <th>QUANTITYORDERED</th>\n",
       "      <th>PRICEEACH</th>\n",
       "      <th>ORDERLINENUMBER</th>\n",
       "      <th>SALES</th>\n",
       "      <th>ORDERDATE</th>\n",
       "      <th>DAYS_SINCE_LASTORDER</th>\n",
       "      <th>STATUS</th>\n",
       "      <th>PRODUCTLINE</th>\n",
       "      <th>MSRP</th>\n",
       "      <th>PRODUCTCODE</th>\n",
       "      <th>CUSTOMERNAME</th>\n",
       "      <th>CITY</th>\n",
       "      <th>COUNTRY</th>\n",
       "      <th>CONTACTLASTNAME</th>\n",
       "      <th>DEALSIZE</th>\n",
       "      <th>YEAR</th>\n",
       "      <th>MONTH</th>\n",
       "      <th>DAY</th>\n",
       "    </tr>\n",
       "  </thead>\n",
       "  <tbody>\n",
       "    <tr>\n",
       "      <th>0</th>\n",
       "      <td>10107</td>\n",
       "      <td>30.0</td>\n",
       "      <td>95.70</td>\n",
       "      <td>2.0</td>\n",
       "      <td>2871.00</td>\n",
       "      <td>2018-02-24</td>\n",
       "      <td>828</td>\n",
       "      <td>Shipped</td>\n",
       "      <td>Motorcycles</td>\n",
       "      <td>95</td>\n",
       "      <td>S10_1678</td>\n",
       "      <td>Land of Toys Inc.</td>\n",
       "      <td>NYC</td>\n",
       "      <td>USA</td>\n",
       "      <td>Yu</td>\n",
       "      <td>Small</td>\n",
       "      <td>2018</td>\n",
       "      <td>February</td>\n",
       "      <td>Saturday</td>\n",
       "    </tr>\n",
       "    <tr>\n",
       "      <th>1</th>\n",
       "      <td>10121</td>\n",
       "      <td>34.0</td>\n",
       "      <td>81.35</td>\n",
       "      <td>5.0</td>\n",
       "      <td>2765.90</td>\n",
       "      <td>2018-05-07</td>\n",
       "      <td>757</td>\n",
       "      <td>Shipped</td>\n",
       "      <td>Motorcycles</td>\n",
       "      <td>95</td>\n",
       "      <td>S10_1678</td>\n",
       "      <td>Reims Collectables</td>\n",
       "      <td>Reims</td>\n",
       "      <td>France</td>\n",
       "      <td>Henriot</td>\n",
       "      <td>Small</td>\n",
       "      <td>2018</td>\n",
       "      <td>May</td>\n",
       "      <td>Monday</td>\n",
       "    </tr>\n",
       "    <tr>\n",
       "      <th>2</th>\n",
       "      <td>10134</td>\n",
       "      <td>41.0</td>\n",
       "      <td>94.74</td>\n",
       "      <td>2.0</td>\n",
       "      <td>3884.34</td>\n",
       "      <td>2018-07-01</td>\n",
       "      <td>703</td>\n",
       "      <td>Shipped</td>\n",
       "      <td>Motorcycles</td>\n",
       "      <td>95</td>\n",
       "      <td>S10_1678</td>\n",
       "      <td>Lyon Souveniers</td>\n",
       "      <td>Paris</td>\n",
       "      <td>France</td>\n",
       "      <td>Da Cunha</td>\n",
       "      <td>Medium</td>\n",
       "      <td>2018</td>\n",
       "      <td>July</td>\n",
       "      <td>Sunday</td>\n",
       "    </tr>\n",
       "    <tr>\n",
       "      <th>4</th>\n",
       "      <td>10168</td>\n",
       "      <td>36.0</td>\n",
       "      <td>96.66</td>\n",
       "      <td>1.0</td>\n",
       "      <td>3479.76</td>\n",
       "      <td>2018-10-28</td>\n",
       "      <td>586</td>\n",
       "      <td>Shipped</td>\n",
       "      <td>Motorcycles</td>\n",
       "      <td>95</td>\n",
       "      <td>S10_1678</td>\n",
       "      <td>Technics Stores Inc.</td>\n",
       "      <td>Burlingame</td>\n",
       "      <td>USA</td>\n",
       "      <td>Hirano</td>\n",
       "      <td>Medium</td>\n",
       "      <td>2018</td>\n",
       "      <td>October</td>\n",
       "      <td>Sunday</td>\n",
       "    </tr>\n",
       "    <tr>\n",
       "      <th>5</th>\n",
       "      <td>10180</td>\n",
       "      <td>29.0</td>\n",
       "      <td>86.13</td>\n",
       "      <td>9.0</td>\n",
       "      <td>2497.77</td>\n",
       "      <td>2018-11-11</td>\n",
       "      <td>573</td>\n",
       "      <td>Shipped</td>\n",
       "      <td>Motorcycles</td>\n",
       "      <td>95</td>\n",
       "      <td>S10_1678</td>\n",
       "      <td>Daedalus Designs Imports</td>\n",
       "      <td>Lille</td>\n",
       "      <td>France</td>\n",
       "      <td>Rance</td>\n",
       "      <td>Small</td>\n",
       "      <td>2018</td>\n",
       "      <td>November</td>\n",
       "      <td>Sunday</td>\n",
       "    </tr>\n",
       "  </tbody>\n",
       "</table>\n",
       "</div>"
      ],
      "text/plain": [
       "   ORDERNUMBER  QUANTITYORDERED  PRICEEACH  ORDERLINENUMBER    SALES  \\\n",
       "0        10107             30.0      95.70              2.0  2871.00   \n",
       "1        10121             34.0      81.35              5.0  2765.90   \n",
       "2        10134             41.0      94.74              2.0  3884.34   \n",
       "4        10168             36.0      96.66              1.0  3479.76   \n",
       "5        10180             29.0      86.13              9.0  2497.77   \n",
       "\n",
       "   ORDERDATE  DAYS_SINCE_LASTORDER   STATUS  PRODUCTLINE  MSRP PRODUCTCODE  \\\n",
       "0 2018-02-24                   828  Shipped  Motorcycles    95    S10_1678   \n",
       "1 2018-05-07                   757  Shipped  Motorcycles    95    S10_1678   \n",
       "2 2018-07-01                   703  Shipped  Motorcycles    95    S10_1678   \n",
       "4 2018-10-28                   586  Shipped  Motorcycles    95    S10_1678   \n",
       "5 2018-11-11                   573  Shipped  Motorcycles    95    S10_1678   \n",
       "\n",
       "               CUSTOMERNAME        CITY COUNTRY CONTACTLASTNAME DEALSIZE  \\\n",
       "0         Land of Toys Inc.         NYC     USA              Yu    Small   \n",
       "1        Reims Collectables       Reims  France         Henriot    Small   \n",
       "2           Lyon Souveniers       Paris  France        Da Cunha   Medium   \n",
       "4      Technics Stores Inc.  Burlingame     USA          Hirano   Medium   \n",
       "5  Daedalus Designs Imports       Lille  France           Rance    Small   \n",
       "\n",
       "   YEAR     MONTH       DAY  \n",
       "0  2018  February  Saturday  \n",
       "1  2018       May    Monday  \n",
       "2  2018      July    Sunday  \n",
       "4  2018   October    Sunday  \n",
       "5  2018  November    Sunday  "
      ]
     },
     "execution_count": 34,
     "metadata": {},
     "output_type": "execute_result"
    }
   ],
   "source": [
    "df.head()"
   ]
  },
  {
   "cell_type": "code",
   "execution_count": null,
   "id": "1822fa87-b3ca-4c96-b856-e05711bd005f",
   "metadata": {},
   "outputs": [],
   "source": []
  },
  {
   "cell_type": "markdown",
   "id": "4db16e5c-dca4-4a12-915e-f8adaa2f0465",
   "metadata": {},
   "source": [
    "## Step 5: Univariate Analysis\n",
    "\n",
    "Analyzing just one variable or column within the dataset.\n",
    "\n",
    "For univariate analysis, \n",
    "- Histogram/ histplot\n",
    "- bar\n",
    "- countplot\n",
    "- box plot\n",
    "- violin plot"
   ]
  },
  {
   "cell_type": "code",
   "execution_count": 35,
   "id": "5e71136e-3dbe-4edd-8293-e9001e863c1f",
   "metadata": {},
   "outputs": [
    {
     "data": {
      "image/png": "[encoded data removed]",
      "text/plain": [
       "<Figure size 1000x400 with 1 Axes>"
      ]
     },
     "metadata": {},
     "output_type": "display_data"
    }
   ],
   "source": [
    "# 1. What is the distribution of QUantity of cars ordered\n",
    "\n",
    "plt.figure(figsize=(10,4))\n",
    "sns.histplot(df['QUANTITYORDERED'], kde=True)\n",
    "plt.title('Distribution of Quantity Ordered')\n",
    "plt.show()"
   ]
  },
  {
   "cell_type": "code",
   "execution_count": 36,
   "id": "10c8bb5c-cd19-4f86-bcef-7ca3b340127a",
   "metadata": {},
   "outputs": [
    {
     "data": {
      "image/png": "[encoded data removed]",
      "text/plain": [
       "<Figure size 700x300 with 1 Axes>"
      ]
     },
     "metadata": {},
     "output_type": "display_data"
    }
   ],
   "source": [
    "# Box plot to detect outliers\n",
    "\n",
    "plt.figure(figsize=(7,3))\n",
    "sns.boxplot(df['QUANTITYORDERED'])\n",
    "plt.title('Check for Outliers')\n",
    "plt.show()"
   ]
  },
  {
   "cell_type": "code",
   "execution_count": 37,
   "id": "d225ad5a-cbc5-4a52-b660-987e800950f0",
   "metadata": {},
   "outputs": [
    {
     "name": "stdout",
     "output_type": "stream",
     "text": [
      "The total quantity ordered is: 95829.39\n"
     ]
    }
   ],
   "source": [
    "# Total Quantity ordered\n",
    "\n",
    "qo_total = df['QUANTITYORDERED'].sum()\n",
    "\n",
    "print(f'The total quantity ordered is: {qo_total:.2f}')"
   ]
  },
  {
   "cell_type": "code",
   "execution_count": 38,
   "id": "0b6181c4-1f7c-425d-95e9-a5da8b847c88",
   "metadata": {},
   "outputs": [
    {
     "data": {
      "text/plain": [
       "7"
      ]
     },
     "execution_count": 38,
     "metadata": {},
     "output_type": "execute_result"
    }
   ],
   "source": [
    "# 2. Which product line is the most popular?\n",
    "\n",
    "df['PRODUCTLINE'].nunique()"
   ]
  },
  {
   "cell_type": "code",
   "execution_count": 39,
   "id": "c9471692-7316-4469-8bcf-1e2a8ae03dc5",
   "metadata": {},
   "outputs": [
    {
     "name": "stdout",
     "output_type": "stream",
     "text": [
      "PRODUCTLINE\n",
      "Classic Cars        949\n",
      "Vintage Cars        572\n",
      "Motorcycles         311\n",
      "Planes              303\n",
      "Trucks and Buses    292\n",
      "Ships               228\n",
      "Trains               77\n",
      "Name: count, dtype: int64\n"
     ]
    }
   ],
   "source": [
    "pl = df['PRODUCTLINE'].value_counts()\n",
    "\n",
    "print(pl)"
   ]
  },
  {
   "cell_type": "code",
   "execution_count": 40,
   "id": "656480f1-7561-4c13-aa81-1df7656f27a4",
   "metadata": {},
   "outputs": [
    {
     "data": {
      "text/plain": [
       "DEALSIZE\n",
       "Medium    1348\n",
       "Small     1238\n",
       "Large      146\n",
       "Name: count, dtype: int64"
      ]
     },
     "execution_count": 40,
     "metadata": {},
     "output_type": "execute_result"
    }
   ],
   "source": [
    "# Distribution of Deal size\n",
    "\n",
    "df['DEALSIZE'].value_counts()"
   ]
  },
  {
   "cell_type": "code",
   "execution_count": 41,
   "id": "6b353773-cc57-4001-ae68-1e2edf2b521a",
   "metadata": {},
   "outputs": [
    {
     "data": {
      "image/png": "[encoded data removed]",
      "text/plain": [
       "<Figure size 700x400 with 1 Axes>"
      ]
     },
     "metadata": {},
     "output_type": "display_data"
    }
   ],
   "source": [
    "# Visualize product line using a countplot\n",
    "\n",
    "plt.figure(figsize=(7, 4))\n",
    "sns.countplot(df['PRODUCTLINE'])\n",
    "plt.title('Most popular product line')\n",
    "plt.show()"
   ]
  },
  {
   "cell_type": "code",
   "execution_count": 42,
   "id": "700ab504-89bb-4c71-b8b7-95c4dc5b5b69",
   "metadata": {},
   "outputs": [],
   "source": [
    "#sns.countplot(y='PRODUCTLINE', data=df, pl=df['PRODUCTLINE'].value_counts().index)\n",
    "#plt.show()"
   ]
  },
  {
   "cell_type": "code",
   "execution_count": 43,
   "id": "d657eed1-ca3d-4a87-a87f-eb84638a9263",
   "metadata": {},
   "outputs": [
    {
     "name": "stdout",
     "output_type": "stream",
     "text": [
      "The average price for each order is 100.96, and MSRP is 100.52\n"
     ]
    }
   ],
   "source": [
    "# Q3. What is the average Price each vs MSRP?\n",
    "\n",
    "avg_price = df['PRICEEACH'].mean() \n",
    "avg_msrp = df['MSRP'].mean()\n",
    "\n",
    "print(f'The average price for each order is {avg_price:.2f}, and MSRP is {avg_msrp:.2f}')"
   ]
  },
  {
   "cell_type": "code",
   "execution_count": 44,
   "id": "270cbc7d-7584-4f89-836b-d4e4788e8720",
   "metadata": {},
   "outputs": [
    {
     "data": {
      "image/png": "[encoded data removed]",
      "text/plain": [
       "<Figure size 700x400 with 1 Axes>"
      ]
     },
     "metadata": {},
     "output_type": "display_data"
    }
   ],
   "source": [
    "# Q4. Visualization for Deal Size\n",
    "\n",
    "plt.figure(figsize=(7, 4))\n",
    "sns.countplot(df['DEALSIZE'])\n",
    "plt.title('Deal Size Distribution')\n",
    "plt.show()"
   ]
  },
  {
   "cell_type": "code",
   "execution_count": 45,
   "id": "94464303-d11f-4a85-b5fb-4bdedc3b3d36",
   "metadata": {},
   "outputs": [
    {
     "data": {
      "text/plain": [
       "STATUS\n",
       "Shipped       2530\n",
       "Cancelled       59\n",
       "Resolved        47\n",
       "On Hold         43\n",
       "In Process      40\n",
       "Disputed        13\n",
       "Name: count, dtype: int64"
      ]
     },
     "execution_count": 45,
     "metadata": {},
     "output_type": "execute_result"
    }
   ],
   "source": [
    "# Q6. What is the breakdown of Order status?\n",
    "\n",
    "df['STATUS'].value_counts()"
   ]
  },
  {
   "cell_type": "code",
   "execution_count": 46,
   "id": "2254b7b3-d2b1-4c8f-8cae-f1fa62031a3f",
   "metadata": {},
   "outputs": [],
   "source": [
    "# find out the analysis based on shopping channels and geographic trends"
   ]
  },
  {
   "cell_type": "markdown",
   "id": "125a83e8-d9e1-4c1e-a1a4-b162e81775ea",
   "metadata": {},
   "source": [
    "#### Bivariate Analysis\n",
    "\n",
    "Analyzing two columns simultaneously within the dataset.\n",
    "\n",
    "- Scatter plot\n",
    "- barplot"
   ]
  },
  {
   "cell_type": "code",
   "execution_count": 47,
   "id": "81b85dea-02c5-4a01-8638-e4690cd23df7",
   "metadata": {},
   "outputs": [
    {
     "data": {
      "text/plain": [
       "COUNTRY\n",
       "USA            3339942.48\n",
       "Spain          1199670.58\n",
       "France         1097984.74\n",
       "Australia       620074.68\n",
       "UK              478880.46\n",
       "Italy           374674.31\n",
       "Finland         326293.09\n",
       "Norway          307463.70\n",
       "Singapore       288488.41\n",
       "Denmark         245637.15\n",
       "Canada          221634.16\n",
       "Sweden          210014.21\n",
       "Germany         209614.88\n",
       "Austria         202062.53\n",
       "Japan           188167.81\n",
       "Switzerland     117713.56\n",
       "Belgium         108412.62\n",
       "Philippines      94015.73\n",
       "Ireland          57756.43\n",
       "Name: SALES, dtype: float64"
      ]
     },
     "execution_count": 47,
     "metadata": {},
     "output_type": "execute_result"
    }
   ],
   "source": [
    "## Q7. Find Revenue generated by country\n",
    "\n",
    "country_revenue = df.groupby('COUNTRY')['SALES'].sum().sort_values(ascending=False)\n",
    "\n",
    "country_revenue"
   ]
  },
  {
   "cell_type": "code",
   "execution_count": 48,
   "id": "389e91c0-aa13-40ea-bbc0-a3c633b44274",
   "metadata": {},
   "outputs": [
    {
     "data": {
      "text/plain": [
       "19"
      ]
     },
     "execution_count": 48,
     "metadata": {},
     "output_type": "execute_result"
    }
   ],
   "source": [
    "df['COUNTRY'].nunique()"
   ]
  },
  {
   "cell_type": "code",
   "execution_count": 49,
   "id": "2a440fbb-76e1-4ee1-b990-4ee9bb5ef845",
   "metadata": {},
   "outputs": [
    {
     "data": {
      "image/png": "[encoded data removed]",
      "text/plain": [
       "<Figure size 1000x400 with 1 Axes>"
      ]
     },
     "metadata": {},
     "output_type": "display_data"
    }
   ],
   "source": [
    "plt.figure(figsize=(10, 4))\n",
    "country_revenue.plot(kind = 'bar', title='Revenue by country')\n",
    "plt.show()"
   ]
  },
  {
   "cell_type": "code",
   "execution_count": 50,
   "id": "999658f8-e2cb-4247-b615-ca91f359d22e",
   "metadata": {},
   "outputs": [
    {
     "data": {
      "text/plain": [
       "COUNTRY\n",
       "USA          3339942.48\n",
       "Spain        1199670.58\n",
       "France       1097984.74\n",
       "Australia     620074.68\n",
       "UK            478880.46\n",
       "Name: SALES, dtype: float64"
      ]
     },
     "execution_count": 50,
     "metadata": {},
     "output_type": "execute_result"
    }
   ],
   "source": [
    "# Top 5 countries by revenue\n",
    "\n",
    "country_revenue_t5 = df.groupby('COUNTRY')['SALES'].sum().sort_values(ascending=False).head()\n",
    "\n",
    "country_revenue_t5"
   ]
  },
  {
   "cell_type": "code",
   "execution_count": 51,
   "id": "4fd439bb-d0d1-454c-921a-d91e786cd934",
   "metadata": {},
   "outputs": [
    {
     "data": {
      "image/png": "[encoded data removed]",
      "text/plain": [
       "<Figure size 1000x400 with 1 Axes>"
      ]
     },
     "metadata": {},
     "output_type": "display_data"
    }
   ],
   "source": [
    "plt.figure(figsize=(10, 4))\n",
    "country_revenue_t5.plot(kind = 'bar', title='Top 5 Revenue by country')\n",
    "plt.show()"
   ]
  },
  {
   "cell_type": "code",
   "execution_count": 52,
   "id": "0fdd6ddc-b0e0-4ce3-8310-c5f3da1ce27c",
   "metadata": {},
   "outputs": [
    {
     "data": {
      "image/png": "[encoded data removed]",
      "text/plain": [
       "<Figure size 1000x400 with 1 Axes>"
      ]
     },
     "metadata": {},
     "output_type": "display_data"
    }
   ],
   "source": [
    "# Q8. Does price affect final sales?\n",
    "\n",
    "plt.figure(figsize=(10, 4))\n",
    "sns.scatterplot(x='PRICEEACH', y='SALES', data=df)\n",
    "plt.title(\"PRICE VS SALES\")\n",
    "plt.show()"
   ]
  },
  {
   "cell_type": "code",
   "execution_count": 54,
   "id": "a8e328dd-4c1b-42eb-aa20-954bbb94d554",
   "metadata": {},
   "outputs": [
    {
     "name": "stdout",
     "output_type": "stream",
     "text": [
      "DEALSIZE\n",
      "Medium    5924557.85\n",
      "Small     2551673.06\n",
      "Large     1212270.62\n",
      "Name: SALES, dtype: float64\n"
     ]
    }
   ],
   "source": [
    "# Q9. How does deal size impact revenue?\n",
    "\n",
    "dsr = df.groupby('DEALSIZE')['SALES'].sum().sort_values(ascending=False)\n",
    "print(dsr)"
   ]
  },
  {
   "cell_type": "code",
   "execution_count": 56,
   "id": "f1b487a0-3544-415c-8928-d7b084459510",
   "metadata": {},
   "outputs": [
    {
     "data": {
      "image/png": "[encoded data removed]",
      "text/plain": [
       "<Figure size 1000x300 with 1 Axes>"
      ]
     },
     "metadata": {},
     "output_type": "display_data"
    }
   ],
   "source": [
    "plt.figure(figsize=(10, 3))\n",
    "dsr.plot(kind='bar', title='Revenue by Deal Size')\n",
    "plt.show()"
   ]
  },
  {
   "cell_type": "code",
   "execution_count": 58,
   "id": "e76ac04c-c6c5-4ce7-9295-fb1474a2fdd6",
   "metadata": {},
   "outputs": [
    {
     "data": {
      "image/png": "[encoded data removed]",
      "text/plain": [
       "<Figure size 1500x400 with 1 Axes>"
      ]
     },
     "metadata": {},
     "output_type": "display_data"
    }
   ],
   "source": [
    "# Q10. Display a trend of revenue over time\n",
    "\n",
    "plt.figure(figsize=(15, 4))\n",
    "sns.lineplot(data=df, x='ORDERDATE', y='SALES')\n",
    "plt.title(\"Trend of Sales Over Time\")\n",
    "plt.show()"
   ]
  },
  {
   "cell_type": "code",
   "execution_count": 59,
   "id": "ef72845f-b50b-43e4-b05f-d3ba8fe3f134",
   "metadata": {},
   "outputs": [
    {
     "data": {
      "image/png": "[encoded data removed]",
      "text/plain": [
       "<Figure size 700x400 with 1 Axes>"
      ]
     },
     "metadata": {},
     "output_type": "display_data"
    }
   ],
   "source": [
    "plt.figure(figsize=(7,4))\n",
    "sns.countplot(x='YEAR', data=df)\n",
    "plt.title(\"Count/Volume of Orders per Year\")\n",
    "plt.show()"
   ]
  },
  {
   "cell_type": "code",
   "execution_count": 60,
   "id": "0f4c27ee-2360-4226-89d5-72edef0a047b",
   "metadata": {},
   "outputs": [
    {
     "data": {
      "text/plain": [
       "YEAR\n",
       "2019    1324\n",
       "2018     948\n",
       "2020     460\n",
       "Name: count, dtype: int64"
      ]
     },
     "execution_count": 60,
     "metadata": {},
     "output_type": "execute_result"
    }
   ],
   "source": [
    "df['YEAR'].value_counts()"
   ]
  },
  {
   "cell_type": "markdown",
   "id": "f1cb7a21-47af-42c4-9559-b5395241e4ae",
   "metadata": {},
   "source": [
    "#### Multivariate Analysis\n",
    "\n",
    "Multivariate Analysis - Analyzing three or more columns/variables simultaneously.\n",
    "\n",
    "Use:\n",
    "- Component bar charts\n",
    "- Heatmap\n",
    "- Pairplot"
   ]
  },
  {
   "cell_type": "code",
   "execution_count": 64,
   "id": "8fb3b705-f06a-41d8-afcb-dd8004c2249e",
   "metadata": {},
   "outputs": [
    {
     "data": {
      "image/png": "[encoded data removed]",
      "text/plain": [
       "<Figure size 1200x400 with 1 Axes>"
      ]
     },
     "metadata": {},
     "output_type": "display_data"
    }
   ],
   "source": [
    "# Q11. How do product line, year and revenue interact?\n",
    "\n",
    "plt.figure(figsize=(12, 4))\n",
    "sns.barplot(x=\"PRODUCTLINE\", y=\"SALES\", hue='YEAR', data=df)\n",
    "plt.title('PL, YR and REV Interactions')\n",
    "plt.show()"
   ]
  },
  {
   "cell_type": "code",
   "execution_count": 65,
   "id": "28b77f2a-0220-4a18-8d8b-23cc96c5c77c",
   "metadata": {},
   "outputs": [
    {
     "data": {
      "text/plain": [
       "19"
      ]
     },
     "execution_count": 65,
     "metadata": {},
     "output_type": "execute_result"
    }
   ],
   "source": [
    "df['COUNTRY'].nunique()"
   ]
  },
  {
   "cell_type": "code",
   "execution_count": 67,
   "id": "ec7829ce-d2cf-4cd2-936c-b3b5cacc35eb",
   "metadata": {},
   "outputs": [
    {
     "data": {
      "text/plain": [
       "COUNTRY\n",
       "USA            924\n",
       "Spain          339\n",
       "France         312\n",
       "Australia      183\n",
       "UK             144\n",
       "Italy          113\n",
       "Finland         91\n",
       "Norway          85\n",
       "Singapore       79\n",
       "Canada          69\n",
       "Denmark         63\n",
       "Germany         60\n",
       "Sweden          57\n",
       "Austria         55\n",
       "Japan           52\n",
       "Belgium         33\n",
       "Switzerland     31\n",
       "Philippines     26\n",
       "Ireland         16\n",
       "Name: count, dtype: int64"
      ]
     },
     "execution_count": 67,
     "metadata": {},
     "output_type": "execute_result"
    }
   ],
   "source": [
    "df['COUNTRY'].value_counts()"
   ]
  },
  {
   "cell_type": "code",
   "execution_count": 68,
   "id": "3eb0a5b3-cb77-4d31-9e59-78c26f8870a4",
   "metadata": {},
   "outputs": [
    {
     "data": {
      "image/png": "[encoded data removed]",
      "text/plain": [
       "<Figure size 1200x400 with 1 Axes>"
      ]
     },
     "metadata": {},
     "output_type": "display_data"
    }
   ],
   "source": [
    "# Q12. How do deal sizes vary by Revenue and product line\n",
    "\n",
    "plt.figure(figsize=(12, 4))\n",
    "sns.barplot(x='PRODUCTLINE', y='SALES', hue='DEALSIZE', data=df)\n",
    "plt.title('')\n",
    "plt.show()"
   ]
  },
  {
   "cell_type": "code",
   "execution_count": null,
   "id": "905477d2-af9b-40b3-ab74-e0ce59f1988d",
   "metadata": {},
   "outputs": [],
   "source": []
  }
 ],
 "metadata": {
  "kernelspec": {
   "display_name": "Python 3 (ipykernel)",
   "language": "python",
   "name": "python3"
  },
  "language_info": {
   "codemirror_mode": {
    "name": "ipython",
    "version": 3
   },
   "file_extension": ".py",
   "mimetype": "text/x-python",
   "name": "python",
   "nbconvert_exporter": "python",
   "pygments_lexer": "ipython3",
   "version": "3.13.5"
  }
 },
 "nbformat": 4,
 "nbformat_minor": 5
}
